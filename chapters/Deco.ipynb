{
 "cells": [
  {
   "cell_type": "markdown",
   "metadata": {},
   "source": [
    "# Decoradores\n",
    "\n",
    "Un decorador en python (no confundir con el patrón de diseño decorator), no es más que una función que toma una función y devuelve otra función, o bien la definición de una clase, y devuelve otra.\n",
    "\n",
    "En python, un decorador se define como una simple función, y puede aplicarse a otra antes de la definición de la misma de la siguiente manera\n",
    "\n",
    "    @decorafor_func\n",
    "    def f():\n",
    "        return x\n",
    "\n",
    "De la misma manera, puede aplicarse a una clase:\n",
    "\n",
    "    @decorafor_func\n",
    "    class A:\n",
    "        pass"
   ]
  },
  {
   "cell_type": "markdown",
   "metadata": {},
   "source": [
    "        \n",
    "Veamos un ejemplode una función que nodifica a otra sumando un 1 al resultado de la misma:"
   ]
  },
  {
   "cell_type": "code",
   "execution_count": 73,
   "metadata": {
    "collapsed": true
   },
   "outputs": [],
   "source": [
    "def add1( func ):\n",
    "    def new_func(*args,**kwargs):\n",
    "        return func(*args,**kwargs) + 1\n",
    "    return new_func"
   ]
  },
  {
   "cell_type": "markdown",
   "metadata": {},
   "source": [
    "Aplicamos la misma a la función identidad"
   ]
  },
  {
   "cell_type": "code",
   "execution_count": 74,
   "metadata": {},
   "outputs": [
    {
     "data": {
      "text/plain": [
       "[1, 2, 3, 4, 5]"
      ]
     },
     "execution_count": 74,
     "metadata": {},
     "output_type": "execute_result"
    }
   ],
   "source": [
    "@add1\n",
    "def f(n):\n",
    "    ''' Funcion Identidad'''\n",
    "    return n\n",
    "    \n",
    "[f(n) for n in range(5)]"
   ]
  },
  {
   "cell_type": "markdown",
   "metadata": {},
   "source": [
    "La notación anterior de la arroba antes de la definición de la función f, es similar a ejecutar la siguiente línea:\n",
    "\n",
    "    f = add1(f)\n",
    "\n",
    "Ahora aplicamos el decorador `add1` mismo a una recta"
   ]
  },
  {
   "cell_type": "code",
   "execution_count": 75,
   "metadata": {},
   "outputs": [
    {
     "data": {
      "text/plain": [
       "[1, 4, 7, 10, 13]"
      ]
     },
     "execution_count": 75,
     "metadata": {},
     "output_type": "execute_result"
    }
   ],
   "source": [
    "@add1\n",
    "def recta(x):\n",
    "    '''Dibuja una recta con pendiente 3'''\n",
    "    return 3*x\n",
    "    \n",
    "[recta(x) for x in range(5)]"
   ]
  },
  {
   "cell_type": "markdown",
   "metadata": {},
   "source": [
    "Pero acá hay un detalla que quizas se nos escape, que es que las funciones, como objetos que son, también tienen atributos propios, y no se están conservando"
   ]
  },
  {
   "cell_type": "code",
   "execution_count": 4,
   "metadata": {},
   "outputs": [
    {
     "data": {
      "text/plain": [
       "('funcion_aburrida', 'Soy una función aburrida')"
      ]
     },
     "execution_count": 4,
     "metadata": {},
     "output_type": "execute_result"
    }
   ],
   "source": [
    "def funcion_aburrida():\n",
    "    \"Soy una función aburrida\"\n",
    "    return 'uh'\n",
    "\n",
    "funcion_aburrida.__name__, funcion_aburrida.__doc__"
   ]
  },
  {
   "cell_type": "markdown",
   "metadata": {},
   "source": [
    "Sin embargo, la función recta, luego de aplicarle el decorador ha perdido, o cambiado estos atributos:"
   ]
  },
  {
   "cell_type": "code",
   "execution_count": 76,
   "metadata": {},
   "outputs": [
    {
     "data": {
      "text/plain": [
       "('new_func', None)"
      ]
     },
     "execution_count": 76,
     "metadata": {},
     "output_type": "execute_result"
    }
   ],
   "source": [
    "recta.__name__, recta.__doc__"
   ]
  },
  {
   "cell_type": "markdown",
   "metadata": {},
   "source": [
    "Por tanto, simpre se debe utilizar el decorador `wraps` en estos casos, que se encarga de mantener consistentes los atributos de las funciones decoradas "
   ]
  },
  {
   "cell_type": "code",
   "execution_count": 5,
   "metadata": {
    "collapsed": true
   },
   "outputs": [],
   "source": [
    "from functools import wraps\n",
    "def add1( func ):\n",
    "    @wraps(func)\n",
    "    def new_func(*args,**kwargs):\n",
    "        return func(*args,**kwargs) + 1\n",
    "    return new_func"
   ]
  },
  {
   "cell_type": "code",
   "execution_count": 6,
   "metadata": {},
   "outputs": [
    {
     "data": {
      "text/plain": [
       "[1, 3, 5, 7, 9]"
      ]
     },
     "execution_count": 6,
     "metadata": {},
     "output_type": "execute_result"
    }
   ],
   "source": [
    "@add1\n",
    "def recta(x,pendiente=3):\n",
    "    '''Dibuja una recta con pendiente 3'''\n",
    "    return pendiente*x\n",
    "    \n",
    "[recta(x, pendiente=2) for x in range(5)]"
   ]
  },
  {
   "cell_type": "code",
   "execution_count": 7,
   "metadata": {},
   "outputs": [
    {
     "data": {
      "text/plain": [
       "('recta', 'Dibuja una recta con pendiente 3')"
      ]
     },
     "execution_count": 7,
     "metadata": {},
     "output_type": "execute_result"
    }
   ],
   "source": [
    "recta.__name__, recta.__doc__"
   ]
  },
  {
   "cell_type": "markdown",
   "metadata": {},
   "source": [
    "Los decoradores, también pueden tomar parámetros, en cuyo caso hacer \n",
    "\n",
    "    @dec( arg )\n",
    "    def f:\n",
    "        ...\n",
    "es similar a hacer\n",
    "    \n",
    "    f = dec(arg)(f)\n",
    "\n",
    "Lo cual complica un poco más las cosas.\n",
    "\n",
    "Hagamos ahora un función que sume un número que le pasemos por parámetro:"
   ]
  },
  {
   "cell_type": "code",
   "execution_count": 9,
   "metadata": {
    "collapsed": true
   },
   "outputs": [],
   "source": [
    "def add( sumar=1 ):\n",
    "    def real_dec( func ):\n",
    "        @wraps(func)\n",
    "        def new_func(*args,**kwargs):\n",
    "            return func(*args,**kwargs) + sumar\n",
    "        return new_func\n",
    "    return real_dec\n",
    "  "
   ]
  },
  {
   "cell_type": "code",
   "execution_count": 10,
   "metadata": {},
   "outputs": [
    {
     "data": {
      "text/plain": [
       "[5, 6, 7, 8, 9]"
      ]
     },
     "execution_count": 10,
     "metadata": {},
     "output_type": "execute_result"
    }
   ],
   "source": [
    "@add( 5 )\n",
    "def f(n):\n",
    "    ''' Funcion Identidad'''\n",
    "    return n\n",
    "\n",
    "[f(x) for x in range(5)]"
   ]
  },
  {
   "cell_type": "markdown",
   "metadata": {},
   "source": [
    "En caso de que se apliquen a una clase, funcionan de forma similar, solo que en lugar de tomar una función, toman una clase, y deben devolver una clase."
   ]
  },
  {
   "cell_type": "code",
   "execution_count": 63,
   "metadata": {},
   "outputs": [],
   "source": [
    "def check_perms_func(func):\n",
    "    '''\n",
    "    Decorador de vistas. Agrega los métodos check_perm y menu_is_visible a la clase, a partir de la funcion func.\n",
    "    :param func: debe ser una función que tome como único parametro un request y devuelva bool\n",
    "    '''\n",
    "    def real_decorator(cls):\n",
    "        cls.check_perm = lambda self,request: func(request)\n",
    "        cls.menu_is_visible = lambda item,request: func(request)\n",
    "        return cls\n",
    "    return real_decorator"
   ]
  },
  {
   "cell_type": "markdown",
   "metadata": {},
   "source": [
    "### Algunos decoradores prácticos"
   ]
  },
  {
   "cell_type": "markdown",
   "metadata": {},
   "source": [
    "El módulo [functools](https://docs.python.org/3/library/functools.html) contiene varios decoradores útiles."
   ]
  },
  {
   "cell_type": "markdown",
   "metadata": {},
   "source": [
    "## Referencias\n",
    "\n",
    "* [PEP 318](https://www.python.org/dev/peps/pep-0318/)"
   ]
  }
 ],
 "metadata": {
  "kernelspec": {
   "display_name": "Python 3",
   "language": "python",
   "name": "python3"
  },
  "language_info": {
   "codemirror_mode": {
    "name": "ipython",
    "version": 3
   },
   "file_extension": ".py",
   "mimetype": "text/x-python",
   "name": "python",
   "nbconvert_exporter": "python",
   "pygments_lexer": "ipython3",
   "version": "3.4.1"
  }
 },
 "nbformat": 4,
 "nbformat_minor": 1
}
