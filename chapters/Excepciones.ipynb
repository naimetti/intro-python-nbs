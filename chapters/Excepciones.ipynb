{
 "cells": [
  {
   "cell_type": "markdown",
   "metadata": {},
   "source": [
    "# Excepciones\n",
    "\n",
    "En general, python es un lenguaje que hace uso extensivo de las [excepciones](https://docs.python.org/3.3/tutorial/errors.html) para el manejo de errores. \n",
    "\n",
    "El manejo de las excepciones se realiza mediante la construcción:\n",
    "\n",
    "\n",
    "    try:\n",
    "        suite\n",
    "    except [expression [\"as\" target]]:\n",
    "        suite\n",
    "    else: \n",
    "        suite\n",
    "    finally: \n",
    "        suite\n",
    "\n",
    "y las excepciones se disparan mediante la palabra clave `raise`.\n",
    "\n",
    "El lenguaje cuenta con un conjunto de excepciones [built-in](https://docs.python.org/3.3/library/exceptions.html), y además pueden crearse nuevas excepciones heredando de la clase [Exception](https://docs.python.org/3.3/library/exceptions.html#Exception)\n",
    "\n",
    "Veamos unos ejemplo sencillos:"
   ]
  },
  {
   "cell_type": "code",
   "execution_count": 1,
   "metadata": {
    "collapsed": false
   },
   "outputs": [
    {
     "ename": "ZeroDivisionError",
     "evalue": "division by zero",
     "output_type": "error",
     "traceback": [
      "\u001b[1;31m---------------------------------------------------------------------------\u001b[0m",
      "\u001b[1;31mZeroDivisionError\u001b[0m                         Traceback (most recent call last)",
      "\u001b[1;32m<ipython-input-1-1aa0f5269458>\u001b[0m in \u001b[0;36m<module>\u001b[1;34m()\u001b[0m\n\u001b[1;32m----> 1\u001b[1;33m \u001b[1;36m1\u001b[0m\u001b[1;33m/\u001b[0m\u001b[1;36m0\u001b[0m\u001b[1;33m\u001b[0m\u001b[0m\n\u001b[0m",
      "\u001b[1;31mZeroDivisionError\u001b[0m: division by zero"
     ]
    }
   ],
   "source": [
    "1/0 "
   ]
  },
  {
   "cell_type": "code",
   "execution_count": 2,
   "metadata": {
    "collapsed": false
   },
   "outputs": [
    {
     "name": "stdout",
     "output_type": "stream",
     "text": [
      "Error: aún no sabemos como dividir un número por 0, pero ya lo vamos a descubrir\n"
     ]
    }
   ],
   "source": [
    "try:\n",
    "    1/0\n",
    "except ZeroDivisionError:\n",
    "    print('Error: aún no sabemos como dividir un número por 0, pero ya lo vamos a descubrir')"
   ]
  },
  {
   "cell_type": "code",
   "execution_count": 7,
   "metadata": {
    "collapsed": false
   },
   "outputs": [
    {
     "data": {
      "text/plain": [
       "'1'"
      ]
     },
     "execution_count": 7,
     "metadata": {},
     "output_type": "execute_result"
    }
   ],
   "source": [
    "d = dict()\n",
    "try:\n",
    "    uno = d[1]\n",
    "except KeyError:\n",
    "    uno = d[1] = \"1\"\n",
    "uno"
   ]
  },
  {
   "cell_type": "markdown",
   "metadata": {},
   "source": [
    "Si bien se puede utilizar el except sin ningún clase, para atrapar cualquier tipo de error, esto no es para nada recomendable, y jamás debevería hacerse."
   ]
  },
  {
   "cell_type": "code",
   "execution_count": 10,
   "metadata": {
    "collapsed": false
   },
   "outputs": [
    {
     "name": "stdout",
     "output_type": "stream",
     "text": [
      "Acá no anduvo algo\n"
     ]
    }
   ],
   "source": [
    "try:\n",
    "    print( variable_inexistente )\n",
    "except:\n",
    "    print('Acá no anduvo algo')"
   ]
  },
  {
   "cell_type": "markdown",
   "metadata": {},
   "source": [
    "Se pueden especificar más de un `except`, o sea, atrapar más de un tipo de excepción por `try`"
   ]
  },
  {
   "cell_type": "code",
   "execution_count": 26,
   "metadata": {
    "collapsed": false
   },
   "outputs": [
    {
     "name": "stdout",
     "output_type": "stream",
     "text": [
      "Ingrese un número: hola\n",
      "Ingresa un número válido\n",
      "Ingrese un número: 0\n",
      "Pero que el número no sea cero!\n",
      "Ingrese un número: 3\n",
      "12 / 3 = 4.0\n"
     ]
    }
   ],
   "source": [
    "while True:\n",
    "    try:\n",
    "        num_str = input('Ingrese un número: ')\n",
    "        num = int(num_str)\n",
    "        print(\"{} / {} = {}\".format(12,num, 12/num ))\n",
    "        break\n",
    "    except ValueError:\n",
    "        print('Ingresa un número válido')\n",
    "    except ZeroDivisionError:\n",
    "        print('Pero que el número no sea cero!')"
   ]
  },
  {
   "cell_type": "markdown",
   "metadata": {},
   "source": [
    "En un único `except`, pueden atraparse más de un tipo de excepción, de la siguiente manera:"
   ]
  },
  {
   "cell_type": "code",
   "execution_count": 40,
   "metadata": {
    "collapsed": false
   },
   "outputs": [
    {
     "name": "stdout",
     "output_type": "stream",
     "text": [
      "Ingrese un número: asd\n",
      "Ingresa un número válido, que no sea cero\n",
      "Ingrese un número: 0\n",
      "Ingresa un número válido, que no sea cero\n",
      "Ingrese un número: 3\n",
      "12 / 3 = 4.0\n"
     ]
    }
   ],
   "source": [
    "while True:\n",
    "    try:\n",
    "        num_str = input('Ingrese un número: ')\n",
    "        num = int(num_str)\n",
    "        print(\"{} / {} = {}\".format(12,num, 12/num ))\n",
    "        break\n",
    "    except (ValueError, ZeroDivisionError):\n",
    "        print('Ingresa un número válido, que no sea cero')\n"
   ]
  },
  {
   "cell_type": "markdown",
   "metadata": {},
   "source": [
    "Al tratar de atrapar un excepción, en realidad lo que se chequea no es que la clase coincida, sino que sea\n",
    "al menos una subclase de la clase que estamos intentado atrapar. \n",
    "\n",
    "Por ejemplo, la clase `ZeroDivisionError` es derivada de `ArithmeticError`, por tanto:"
   ]
  },
  {
   "cell_type": "code",
   "execution_count": 24,
   "metadata": {
    "collapsed": false
   },
   "outputs": [
    {
     "name": "stdout",
     "output_type": "stream",
     "text": [
      "Acá hubo un error aritmético!\n"
     ]
    }
   ],
   "source": [
    "try:\n",
    "    1/0\n",
    "except ArithmeticError:\n",
    "    print('Acá hubo un error aritmético!')"
   ]
  },
  {
   "cell_type": "markdown",
   "metadata": {},
   "source": [
    "Las excepciones también, al ser atrapadas también pueden ser refenciadas"
   ]
  },
  {
   "cell_type": "code",
   "execution_count": 37,
   "metadata": {
    "collapsed": false
   },
   "outputs": [
    {
     "name": "stdout",
     "output_type": "stream",
     "text": [
      "La clave 'hola' no existe\n",
      "('hola',)\n"
     ]
    }
   ],
   "source": [
    "d = {} \n",
    "try:\n",
    "    d[\"hola\"] \n",
    "except KeyError as excp :\n",
    "    print(\"La clave\",excp,\"no existe\")\n",
    "    print(excp.args)"
   ]
  },
  {
   "cell_type": "markdown",
   "metadata": {},
   "source": [
    "El bloque `else` puede utilizarse para el caso de que **no** haya habido ningúna excepción:\n"
   ]
  },
  {
   "cell_type": "code",
   "execution_count": 46,
   "metadata": {
    "collapsed": false
   },
   "outputs": [
    {
     "name": "stdout",
     "output_type": "stream",
     "text": [
      "Anduvo todo bien: Carola\n"
     ]
    }
   ],
   "source": [
    "d = { \"hola\": \"Carola\"} \n",
    "try:\n",
    "    d[\"hola\"] = \"Carola\"\n",
    "except KeyError as excp :\n",
    "    print(\"La clave\",excp,\"no existe\")\n",
    "else:\n",
    "    print(\"Anduvo todo bien:\", d[\"hola\"] )"
   ]
  },
  {
   "cell_type": "markdown",
   "metadata": {},
   "source": [
    "En caso de que se desee ejecutar una rutina de clean up, o sea, un bloque que se ejecutara haya o no haya excepción, al salir del try, se puede utilizar `finally`"
   ]
  },
  {
   "cell_type": "code",
   "execution_count": 53,
   "metadata": {
    "collapsed": false
   },
   "outputs": [
    {
     "name": "stdout",
     "output_type": "stream",
     "text": [
      "Limpiamos todo antes de irnos del try, eso sí\n"
     ]
    },
    {
     "data": {
      "text/plain": [
       "'hicimos algo'"
      ]
     },
     "execution_count": 53,
     "metadata": {},
     "output_type": "execute_result"
    }
   ],
   "source": [
    "def f( error=False ):\n",
    "    \n",
    "    try:\n",
    "        if error:\n",
    "            1 / 0\n",
    "    except ZeroDivisionError:\n",
    "        print('Error: abortamos!')\n",
    "        return None\n",
    "    finally:\n",
    "        print(\"Limpiamos todo antes de irnos del try, eso sí\")\n",
    "    \n",
    "    return \"hicimos algo\"\n",
    "\n",
    "f(error=False)\n",
    "    "
   ]
  },
  {
   "cell_type": "code",
   "execution_count": 51,
   "metadata": {
    "collapsed": false
   },
   "outputs": [
    {
     "name": "stdout",
     "output_type": "stream",
     "text": [
      "Error abortamos!\n",
      "Limpiamos todo antes de irnos del try, eso sí\n"
     ]
    }
   ],
   "source": [
    "f(error=True)"
   ]
  },
  {
   "cell_type": "markdown",
   "metadata": {},
   "source": [
    "Ahora vamos a ver como crear y lanzar excepciones. \n",
    "\n",
    "Una excepción, no es más que una clase que hereda de `Exception`"
   ]
  },
  {
   "cell_type": "code",
   "execution_count": 59,
   "metadata": {
    "collapsed": true
   },
   "outputs": [],
   "source": [
    "class MiError(Exception):\n",
    "    pass"
   ]
  },
  {
   "cell_type": "markdown",
   "metadata": {},
   "source": [
    "La excepción puede ser disparada mediante el uso de `raise`"
   ]
  },
  {
   "cell_type": "code",
   "execution_count": 58,
   "metadata": {
    "collapsed": false
   },
   "outputs": [
    {
     "ename": "MiError",
     "evalue": "",
     "output_type": "error",
     "traceback": [
      "\u001b[1;31m---------------------------------------------------------------------------\u001b[0m",
      "\u001b[1;31mMiError\u001b[0m                                   Traceback (most recent call last)",
      "\u001b[1;32m<ipython-input-58-bc10ee57dd32>\u001b[0m in \u001b[0;36m<module>\u001b[1;34m()\u001b[0m\n\u001b[1;32m----> 1\u001b[1;33m \u001b[1;32mraise\u001b[0m \u001b[0mMiError\u001b[0m\u001b[1;33m\u001b[0m\u001b[0m\n\u001b[0m",
      "\u001b[1;31mMiError\u001b[0m: "
     ]
    }
   ],
   "source": [
    "raise MiError\n"
   ]
  },
  {
   "cell_type": "markdown",
   "metadata": {},
   "source": [
    "La misma aceptará parámetros, opcionamente:"
   ]
  },
  {
   "cell_type": "code",
   "execution_count": 64,
   "metadata": {
    "collapsed": false
   },
   "outputs": [
    {
     "name": "stdout",
     "output_type": "stream",
     "text": [
      "Cuento que pasó\n"
     ]
    }
   ],
   "source": [
    "try:\n",
    "    raise MiError(\"Cuento que pasó\")\n",
    "except MiError as e:\n",
    "    print(e)"
   ]
  },
  {
   "cell_type": "markdown",
   "metadata": {},
   "source": [
    "De más está decir, que las excepciones pueden ser personalizadas según sea necesario:"
   ]
  },
  {
   "cell_type": "code",
   "execution_count": 73,
   "metadata": {
    "collapsed": false
   },
   "outputs": [
    {
     "name": "stdout",
     "output_type": "stream",
     "text": [
      "Error avanzado: Archivos inválidos  ('a.conf', 'b.conf')\n"
     ]
    }
   ],
   "source": [
    "class MiErrorAvanzado(Exception):\n",
    "    \n",
    "    def __init__(self, mssg, ref=''):\n",
    "        self.mssg = mssg\n",
    "        self.ref = ref\n",
    "    \n",
    "    def __str__(self,):\n",
    "        return \"Error avanzado: {}  {}\".format(self.mssg, self.ref)\n",
    "    \n",
    "try:\n",
    "    raise MiErrorAvanzado(\"Archivos inválidos\", ('a.conf','b.conf') )\n",
    "except MiErrorAvanzado as e:\n",
    "    print(e)"
   ]
  }
 ],
 "metadata": {
  "kernelspec": {
   "display_name": "Python 3",
   "language": "python",
   "name": "python3"
  },
  "language_info": {
   "codemirror_mode": {
    "name": "ipython",
    "version": 3
   },
   "file_extension": ".py",
   "mimetype": "text/x-python",
   "name": "python",
   "nbconvert_exporter": "python",
   "pygments_lexer": "ipython3",
   "version": "3.3.3"
  }
 },
 "nbformat": 4,
 "nbformat_minor": 0
}
