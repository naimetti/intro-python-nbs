{
 "cells": [
  {
   "cell_type": "markdown",
   "metadata": {},
   "source": [
    "# Funciones\n",
    "\n",
    "* [Definición](#Definición)\n",
    "* [Parámetros](#Parámetros)\n",
    "  * [Parámetros posicionales](#Parámetros-posicionales)\n",
    "  * [Parámetros por nombre](#Parámetros-por-nombre)\n",
    "  * [Valores por default](#Valores-por-default)\n",
    "  * [Parámetros posicionales arbitrarios](#Parámetros-posicionales-arbitrarios)\n",
    "  * [Parámetros arbitrario por nombre](#Parámetros-arbitrario-por-nombre)\n",
    "  * [Despliegue de parametros](#Despliegue-de-parametros)\n",
    "* [Lambda](#Lambda)"
   ]
  },
  {
   "cell_type": "markdown",
   "metadata": {},
   "source": [
    "## Definición\n",
    "\n",
    "Las funciones en python se definen mediante la palabra clave `def`, def la siguiente manera"
   ]
  },
  {
   "cell_type": "code",
   "execution_count": 6,
   "metadata": {
    "collapsed": true
   },
   "outputs": [],
   "source": [
    "def f():\n",
    "    return \"soy un función\""
   ]
  },
  {
   "cell_type": "markdown",
   "metadata": {},
   "source": [
    "y son invocada mediante el uso de los paréntesis al final:"
   ]
  },
  {
   "cell_type": "code",
   "execution_count": 7,
   "metadata": {
    "collapsed": false
   },
   "outputs": [
    {
     "data": {
      "text/plain": [
       "'soy un función'"
      ]
     },
     "execution_count": 7,
     "metadata": {},
     "output_type": "execute_result"
    }
   ],
   "source": [
    "f()"
   ]
  },
  {
   "cell_type": "markdown",
   "metadata": {},
   "source": [
    "## Parámetros\n",
    "\n",
    "Los parametros que recibirá la función se especifican en la defnición de la misma, entre los parentesis que siguen al nombre. "
   ]
  },
  {
   "cell_type": "code",
   "execution_count": 30,
   "metadata": {
    "collapsed": false,
    "scrolled": true
   },
   "outputs": [
    {
     "data": {
      "text/plain": [
       "-1"
      ]
     },
     "execution_count": 30,
     "metadata": {},
     "output_type": "execute_result"
    }
   ],
   "source": [
    "def f(x, y):\n",
    "    return x - y\n",
    "\n",
    "f(2,3)"
   ]
  },
  {
   "cell_type": "markdown",
   "metadata": {},
   "source": [
    "La función f, deberá recibir todos los parámetros indicados en la definición, en caso contrario dará un error."
   ]
  },
  {
   "cell_type": "code",
   "execution_count": 31,
   "metadata": {
    "collapsed": false
   },
   "outputs": [
    {
     "ename": "TypeError",
     "evalue": "f() missing 1 required positional argument: 'y'",
     "output_type": "error",
     "traceback": [
      "\u001b[1;31m---------------------------------------------------------------------------\u001b[0m",
      "\u001b[1;31mTypeError\u001b[0m                                 Traceback (most recent call last)",
      "\u001b[1;32m<ipython-input-31-90b61b657670>\u001b[0m in \u001b[0;36m<module>\u001b[1;34m()\u001b[0m\n\u001b[1;32m----> 1\u001b[1;33m \u001b[0mf\u001b[0m\u001b[1;33m(\u001b[0m\u001b[1;36m1\u001b[0m\u001b[1;33m)\u001b[0m\u001b[1;33m\u001b[0m\u001b[0m\n\u001b[0m",
      "\u001b[1;31mTypeError\u001b[0m: f() missing 1 required positional argument: 'y'"
     ]
    }
   ],
   "source": [
    "f(1)"
   ]
  },
  {
   "cell_type": "markdown",
   "metadata": {},
   "source": [
    "### Parámetros posicionales\n",
    "\n",
    "Cuando los parámetros se pasan a la función de forma implicita (sin especificar el nombre, sino solo por la posición), se habla de parámetros **posicionales**. \n",
    "\n",
    "Ejemplo"
   ]
  },
  {
   "cell_type": "code",
   "execution_count": 34,
   "metadata": {
    "collapsed": false
   },
   "outputs": [
    {
     "data": {
      "text/plain": [
       "4"
      ]
     },
     "execution_count": 34,
     "metadata": {},
     "output_type": "execute_result"
    }
   ],
   "source": [
    "f(5,1)"
   ]
  },
  {
   "cell_type": "markdown",
   "metadata": {},
   "source": [
    "### Parámetros por nombre"
   ]
  },
  {
   "cell_type": "markdown",
   "metadata": {},
   "source": [
    "Cuando los parámetos se pasan por nombre, se habla de parámetors **keyword**, o de pasar parámetros por nombre."
   ]
  },
  {
   "cell_type": "code",
   "execution_count": 36,
   "metadata": {
    "collapsed": false
   },
   "outputs": [
    {
     "data": {
      "text/plain": [
       "-4"
      ]
     },
     "execution_count": 36,
     "metadata": {},
     "output_type": "execute_result"
    }
   ],
   "source": [
    "f(y=5, x=1)"
   ]
  },
  {
   "cell_type": "markdown",
   "metadata": {},
   "source": [
    "Python soporta ambas formas, incluso, se pueden combinar una y otra"
   ]
  },
  {
   "cell_type": "code",
   "execution_count": 39,
   "metadata": {
    "collapsed": false
   },
   "outputs": [
    {
     "data": {
      "text/plain": [
       "2"
      ]
     },
     "execution_count": 39,
     "metadata": {},
     "output_type": "execute_result"
    }
   ],
   "source": [
    "f(5, y=3)"
   ]
  },
  {
   "cell_type": "markdown",
   "metadata": {},
   "source": [
    "### Valores por default\n",
    "\n",
    "Es posible especificar el valor por default que tomará, esto se hace mediante un signo = luego del nombre del parámetro, y asignando el valor por defecto. Los parámetros con valor por defecto son opcionales. \n",
    "\n",
    "El el siguiente ejemplo, especificamos un parametro con un valor por defecto **op** (la operanción que se aplicará a cada parámetro _x_ e _y_ antes de sumarlos)"
   ]
  },
  {
   "cell_type": "code",
   "execution_count": null,
   "metadata": {
    "collapsed": true
   },
   "outputs": [],
   "source": [
    "from math import sin, cos, pi\n",
    "\n",
    "def f(x,y,op=sin):\n",
    "    return op(x)+op(y)"
   ]
  },
  {
   "cell_type": "markdown",
   "metadata": {},
   "source": [
    "En el pripmer ejemplo la invoca con la operanción por defecto."
   ]
  },
  {
   "cell_type": "code",
   "execution_count": 54,
   "metadata": {
    "collapsed": false
   },
   "outputs": [
    {
     "data": {
      "text/plain": [
       "1.0000000000000002"
      ]
     },
     "execution_count": 54,
     "metadata": {},
     "output_type": "execute_result"
    }
   ],
   "source": [
    "f(pi, pi/2)"
   ]
  },
  {
   "cell_type": "markdown",
   "metadata": {},
   "source": [
    "Especificamos una operación en particular."
   ]
  },
  {
   "cell_type": "code",
   "execution_count": 56,
   "metadata": {
    "collapsed": false
   },
   "outputs": [
    {
     "data": {
      "text/plain": [
       "-0.9999999999999999"
      ]
     },
     "execution_count": 56,
     "metadata": {},
     "output_type": "execute_result"
    }
   ],
   "source": [
    "f(pi, pi/2, op=cos)"
   ]
  },
  {
   "cell_type": "markdown",
   "metadata": {},
   "source": [
    "El orden de los parámetros pasador por nombre no es importante."
   ]
  },
  {
   "cell_type": "code",
   "execution_count": 55,
   "metadata": {
    "collapsed": false
   },
   "outputs": [
    {
     "data": {
      "text/plain": [
       "0.12415546932099736"
      ]
     },
     "execution_count": 55,
     "metadata": {},
     "output_type": "execute_result"
    }
   ],
   "source": [
    "f(op=cos, x=1, y=2)"
   ]
  },
  {
   "cell_type": "markdown",
   "metadata": {},
   "source": [
    "### Parámetros posicionales arbitrarios\n",
    "\n",
    "Se puede utilizar el operador asteristo \\*, para especificar que una función tomará un número arbitrario de parámetros. El argumento que tenga el asterisco por delante, será una tupla que agrupe a todos los parámetros posicionales arbitrarios."
   ]
  },
  {
   "cell_type": "code",
   "execution_count": 63,
   "metadata": {
    "collapsed": false
   },
   "outputs": [
    {
     "data": {
      "text/plain": [
       "'1 + 2 + 3 + 4 + 5 = 15'"
      ]
     },
     "execution_count": 63,
     "metadata": {},
     "output_type": "execute_result"
    }
   ],
   "source": [
    "def f( *args):\n",
    "    return ' + '.join(map(str,args)) + \" = \" + str(sum(args))\n",
    "\n",
    "f(1,2,3,4,5)"
   ]
  },
  {
   "cell_type": "markdown",
   "metadata": {},
   "source": [
    "### Parámetros arbitrario por nombre\n",
    "\n",
    "De manera similar, si uno desea pasar parámetros de forma arbitraria a una función por nombre, puede utilizar el dobre asteristco \\*\\* para indicar esto. El argumento que tenga el doble asterisco por delante, será una diccionario que agrupe a todos los parámetros pasador por nombre arbitrarios.\n"
   ]
  },
  {
   "cell_type": "code",
   "execution_count": 67,
   "metadata": {
    "collapsed": false
   },
   "outputs": [
    {
     "name": "stdout",
     "output_type": "stream",
     "text": [
      "{'lista': (1, 2, 3), 'k': 1, 'v': 2}\n"
     ]
    }
   ],
   "source": [
    "def f(**kwargs):\n",
    "    print(kwargs)\n",
    "\n",
    "f( k=1, v=2, lista=(1,2,3))"
   ]
  },
  {
   "cell_type": "markdown",
   "metadata": {},
   "source": [
    "todos estos métodos, pueden usarse de manera combinada"
   ]
  },
  {
   "cell_type": "code",
   "execution_count": 69,
   "metadata": {
    "collapsed": false
   },
   "outputs": [
    {
     "name": "stdout",
     "output_type": "stream",
     "text": [
      "x, y: 1 2\n",
      "op: <built-in function sin>\n",
      "args: (3, 4)\n",
      "kwargs: {'k': 1}\n"
     ]
    }
   ],
   "source": [
    "def f( x, y, *args, op=sin,  **kwargs):\n",
    "        print(\"x, y:\", x,y)\n",
    "        print('op:', op)\n",
    "        print(\"args:\",args)\n",
    "        print(\"kwargs:\",kwargs)\n",
    "        \n",
    "f( 1, 2, 3, 4, k=1)"
   ]
  },
  {
   "cell_type": "markdown",
   "metadata": {},
   "source": [
    "### Despliegue de parametros\n",
    "\n",
    "De forma contraria a los visto anteriormente, yo puedo tener una lista, y querer que cada elemento de la misma, represente un parámetro de una función. Para esto, puede utilarse el operador asterisco frente a la lista, al momento de pasar los parámetros a la función, y se obtendrá el fin deseado."
   ]
  },
  {
   "cell_type": "code",
   "execution_count": 75,
   "metadata": {
    "collapsed": false
   },
   "outputs": [
    {
     "name": "stdout",
     "output_type": "stream",
     "text": [
      "3\n"
     ]
    }
   ],
   "source": [
    "def f(x, y):\n",
    "    print(x + y)\n",
    "\n",
    "l = [1,2]\n",
    "\n",
    "f( *l )\n"
   ]
  },
  {
   "cell_type": "markdown",
   "metadata": {},
   "source": [
    "De forma similar, puede utiliarce el dobre asterisco para desplegar los parámetros por nombre desde un diccionario"
   ]
  },
  {
   "cell_type": "code",
   "execution_count": 54,
   "metadata": {
    "collapsed": false
   },
   "outputs": [
    {
     "name": "stdout",
     "output_type": "stream",
     "text": [
      "1 2 4 5\n"
     ]
    }
   ],
   "source": [
    "def f(x, y, k=1, m=2):\n",
    "    print(x,y,k,m)\n",
    "\n",
    "d = { 'k':4, 'm':5   }\n",
    "\n",
    "f( 1, 2, **d)\n"
   ]
  },
  {
   "cell_type": "code",
   "execution_count": 55,
   "metadata": {
    "collapsed": false
   },
   "outputs": [
    {
     "name": "stdout",
     "output_type": "stream",
     "text": [
      "1 2 3 5\n"
     ]
    }
   ],
   "source": [
    "l  = {2,}\n",
    "d = { 'm':5 }\n",
    "f( 1, *l, k=3, **d)"
   ]
  },
  {
   "cell_type": "markdown",
   "metadata": {},
   "source": [
    "### Consideraciones adicionales\n",
    "\n",
    "Es importante remarcar que los valores utilizados como default por una función o método, son inicializados una única vez. Por tanto, hay que tener cuidado al definir estos. \n",
    "\n",
    "Si por ejemplo, inicilizamo un parámetro **l** con una lista vacia, cada vez que en la función se utilice el valor por defecto del parámetro **l**, se estará referenciando a la misma lista.\n",
    "\n",
    "Ejemplo:\n"
   ]
  },
  {
   "cell_type": "code",
   "execution_count": 4,
   "metadata": {
    "collapsed": false
   },
   "outputs": [
    {
     "data": {
      "text/plain": [
       "([1, 1], True)"
      ]
     },
     "execution_count": 4,
     "metadata": {},
     "output_type": "execute_result"
    }
   ],
   "source": [
    "\n",
    "def f( l=[] ):\n",
    "    l.append(1)\n",
    "    return l\n",
    "    \n",
    "l1 = f()\n",
    "l2 = f()\n",
    "l2, id(l1) == id(l2)"
   ]
  },
  {
   "cell_type": "markdown",
   "metadata": {},
   "source": [
    "Como vemos, los sucesivos llamados a *f* hacen todos refencia a la misma lista.\n",
    "\n",
    "Por tanto, si se desea una nueva lista cada vez que vaya a llamarse la función, se recomienda utilizar una construcción como la siguiente:"
   ]
  },
  {
   "cell_type": "code",
   "execution_count": 6,
   "metadata": {
    "collapsed": false
   },
   "outputs": [
    {
     "data": {
      "text/plain": [
       "([1], False)"
      ]
     },
     "execution_count": 6,
     "metadata": {},
     "output_type": "execute_result"
    }
   ],
   "source": [
    "def f( l=None ):\n",
    "    if l is None: l = []\n",
    "    l.append(1)\n",
    "    return l\n",
    "l1 = f()\n",
    "l2 = f()\n",
    "l2, id(l1) == id(l2)"
   ]
  },
  {
   "cell_type": "markdown",
   "metadata": {},
   "source": [
    "## Closures\n",
    "\n",
    "Python permite definir [closures](https://en.wikipedia.org/wiki/Closure_%28computer_programming%29):"
   ]
  },
  {
   "cell_type": "code",
   "execution_count": 8,
   "metadata": {
    "collapsed": false
   },
   "outputs": [
    {
     "name": "stdout",
     "output_type": "stream",
     "text": [
      "soy g(), invocando una variable definida en f()\n"
     ]
    }
   ],
   "source": [
    "def f():\n",
    "    '''Retona una función'''\n",
    "    a = \"variable definida en f()\"\n",
    "    def g():\n",
    "        print(\"soy g(), invocando una\",a)\n",
    "    return g\n",
    "\n",
    "f()()"
   ]
  },
  {
   "cell_type": "markdown",
   "metadata": {},
   "source": [
    "Sopongamos que quisieramos tener una función, que cada vez que sea invocada, aumente una variable privada, podríamos hacer:"
   ]
  },
  {
   "cell_type": "code",
   "execution_count": 11,
   "metadata": {
    "collapsed": false
   },
   "outputs": [
    {
     "data": {
      "text/plain": [
       "3"
      ]
     },
     "execution_count": 11,
     "metadata": {},
     "output_type": "execute_result"
    }
   ],
   "source": [
    "def make_f_scope():\n",
    "    acum = 0\n",
    "    def f():\n",
    "        nonlocal acum   \n",
    "        acum += 1\n",
    "        return acum\n",
    "    return f\n",
    "\n",
    "f = make_f_scope()\n",
    "\n",
    "f()\n",
    "f()\n",
    "f()"
   ]
  },
  {
   "cell_type": "markdown",
   "metadata": {},
   "source": [
    "Por supuesto, esta no es la forma más prolija, y convendría siempre usar una clase para esto. En el capítulo sobre decoradores, veremos una forma más elegante de definir funciones de este tipo."
   ]
  },
  {
   "cell_type": "markdown",
   "metadata": {},
   "source": [
    "## Lambda\n",
    "\n",
    "Las funciones lambda, sirven para crear funciones anónimas. Solo pueden retornar una expresión, por tanto, no son tan poderosas como las funciones comunes.\n",
    "\n",
    "Sirven para casos sencillos, ya que en casos complejos, se recomienda usar funciones comunes, sobre todo por las ventajas que tienen a la hora de reportar errores en el stack trace."
   ]
  },
  {
   "cell_type": "code",
   "execution_count": 3,
   "metadata": {
    "collapsed": false
   },
   "outputs": [
    {
     "data": {
      "text/plain": [
       "6"
      ]
     },
     "execution_count": 3,
     "metadata": {},
     "output_type": "execute_result"
    }
   ],
   "source": [
    "f = lambda *args: sum(args)\n",
    "f(1,2,3)"
   ]
  },
  {
   "cell_type": "code",
   "execution_count": 8,
   "metadata": {
    "collapsed": false
   },
   "outputs": [
    {
     "data": {
      "text/plain": [
       "[1, 4, 9]"
      ]
     },
     "execution_count": 8,
     "metadata": {},
     "output_type": "execute_result"
    }
   ],
   "source": [
    "list(map(lambda x:x**2, [1,2,3]))"
   ]
  }
 ],
 "metadata": {
  "kernelspec": {
   "display_name": "Python 3",
   "language": "python",
   "name": "python3"
  },
  "language_info": {
   "codemirror_mode": {
    "name": "ipython",
    "version": 3
   },
   "file_extension": ".py",
   "mimetype": "text/x-python",
   "name": "python",
   "nbconvert_exporter": "python",
   "pygments_lexer": "ipython3",
   "version": "3.3.3"
  }
 },
 "nbformat": 4,
 "nbformat_minor": 0
}
