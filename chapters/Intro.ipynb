{
 "cells": [
  {
   "cell_type": "markdown",
   "metadata": {},
   "source": [
    "# Introducción\n",
    "\n",
    "Python es un leguaje de programación interpretado, de tipado dinámico, orientado a objetos, y que soporta también ciertos paradigmas de la programación funcional. \n",
    "\n",
    "Aquí veremos, a modo de introducción, solo tres característica acerca de la sintaxis:\n",
    "* Como declara las sentencias\n",
    "* Como declarar un bloque de código\n",
    "* Como agregar comentarios\n",
    "\n",
    "\n",
    "\n",
    "\n",
    "Las lineas o sentencias de código terminan con un fin de línea (\\n). No es necesario terminar la líneas con un punto y coma (**;**).\n",
    "\n",
    "Se recomienda imperativamente utilizar una única declaración o sentencia por línea."
   ]
  },
  {
   "cell_type": "code",
   "execution_count": 6,
   "metadata": {},
   "outputs": [
    {
     "name": "stdout",
     "output_type": "stream",
     "text": [
      "Hola mundo!\n"
     ]
    }
   ],
   "source": [
    "print(\"Hola mundo!\")"
   ]
  },
  {
   "cell_type": "markdown",
   "metadata": {},
   "source": [
    "Como vemos, el comando _print_ se utiliza para mostrar un string en pantalla. La misma agrega automaticamente un fin de línea a salida.\n",
    "\n",
    "Las variables se delaran simplemente mediante una asignación. No hace falta utilizar ninguna palabra reservada, ni declarar el tipo de las mimas."
   ]
  },
  {
   "cell_type": "code",
   "execution_count": 7,
   "metadata": {},
   "outputs": [
    {
     "name": "stdout",
     "output_type": "stream",
     "text": [
      "Manzanas 12\n"
     ]
    }
   ],
   "source": [
    "foo = \"Manzanas\"\n",
    "bar = 12\n",
    "print(foo, bar)"
   ]
  },
  {
   "cell_type": "markdown",
   "metadata": {},
   "source": [
    "Si tengo una línea muy larga, puedo hacer que continue escapando el fin de línea utilizando la barra invertida (**\\\\**), o encerrando la sentencia entre paréntesis:"
   ]
  },
  {
   "cell_type": "code",
   "execution_count": 1,
   "metadata": {},
   "outputs": [
    {
     "name": "stdout",
     "output_type": "stream",
     "text": [
      "946\n"
     ]
    }
   ],
   "source": [
    "# utilizando \\\n",
    "cuenta = 0 + 1 + 2 + 3 + 4 + 5 + 6 + 7 + 8 + 9 + 10 + 11 + 12 + 13 + 14 + 15 + 16 + 17 + 18 + 19 + 20 + 21 + 22 + 23 \\\n",
    "         + 24 + 25 + 26 + 27 + 28 + 29 + 30 + 31 + 32 + 33 + 34 + 35 + 36 + 37 + 38 + 39 + 40 + 41 + 42 + 43\n",
    "\n",
    "# Utilizando ()\n",
    "cuenta = (0 + 1 + 2 + 3 + 4 + 5 + 6 + 7 + 8 + 9 + 10 + 11 + 12 + 13 + 14 + 15 + 16 + 17 +\n",
    "          18 + 19 + 20 + 21 + 22 + 23\n",
    "         + 24 + 25 + 26 + 27 + 28 + 29 + 30 + 31 + 32 + 33 + 34 + 35 + 36 + 37 + 38 + 39 + 40 + 41 + 42 + 43 )\n",
    "print(cuenta)\n"
   ]
  },
  {
   "cell_type": "markdown",
   "metadata": {},
   "source": [
    "Como regla general, no se recomienda utilizar líneas que superen los 80 caracteres. \n",
    "\n",
    "Un caso especial es cuando se habre algún tipo de parentesis o corchetes, en dichos casos, se permiten secuencias multilínea:"
   ]
  },
  {
   "cell_type": "code",
   "execution_count": 21,
   "metadata": {},
   "outputs": [
    {
     "name": "stdout",
     "output_type": "stream",
     "text": [
      "Manzanas 12\n"
     ]
    }
   ],
   "source": [
    "print( \n",
    "    foo,\n",
    "    bar\n",
    ")"
   ]
  },
  {
   "cell_type": "code",
   "execution_count": 22,
   "metadata": {
    "scrolled": false
   },
   "outputs": [
    {
     "name": "stdout",
     "output_type": "stream",
     "text": [
      "[1, 2, 4]\n"
     ]
    }
   ],
   "source": [
    "l = [\n",
    "    1,\n",
    "    2,\n",
    "    4\n",
    "]\n",
    "print(l)"
   ]
  },
  {
   "cell_type": "markdown",
   "metadata": {},
   "source": [
    "Los distintos bloques de código, se indican solo por un dos puntos (**:**), seguido por un bloque indentado.\n",
    "\n",
    "**La indentación es obligatoria!**, y es el mecanísmo que utiliza python para identificar que sentencias pertecen a un bloque de código determinado. \n",
    "\n",
    "Algunos ejemplos:"
   ]
  },
  {
   "cell_type": "code",
   "execution_count": 23,
   "metadata": {
    "scrolled": true
   },
   "outputs": [
    {
     "name": "stdout",
     "output_type": "stream",
     "text": [
      "Dentro del if\n",
      "En el loop 1\n",
      "En el loop 1\n",
      "En el loop 4\n",
      "En el loop 27\n",
      "En el loop 256\n",
      "soy una función\n"
     ]
    }
   ],
   "source": [
    "if 4 in (1,3,4):\n",
    "    a = 1 + 6\n",
    "    print(\"Dentro del if\")\n",
    "\n",
    "    \n",
    "for e in range(5):\n",
    "    print(\"En el loop\", e**e)\n",
    "    \n",
    "def f():\n",
    "    print(\"soy una función\")\n",
    "\n",
    "f()"
   ]
  },
  {
   "cell_type": "markdown",
   "metadata": {},
   "source": [
    "Los comentarios comienzan con cardinal (**#**)"
   ]
  },
  {
   "cell_type": "code",
   "execution_count": 24,
   "metadata": {
    "collapsed": true
   },
   "outputs": [],
   "source": [
    "#soy un comentario\n",
    "a = 1+3 # otro comentario"
   ]
  },
  {
   "cell_type": "markdown",
   "metadata": {},
   "source": [
    "Referencias\n",
    "-------------\n",
    "\n",
    "* [Documentación oficial](https://docs.python.org/3.4/)\n",
    "*   [Python en reddit](https://www.reddit.com/r/Python/)\n",
    "    Datos sobre recursos y noticias.\n",
    "*   [Dive into Python](http://www.diveintopython3.net/)\n",
    "    Una introducción interesante, y sencilla.\n",
    "*   [Stackoverflow sobre python](http://stackoverflow.com/tags/python/info)\n",
    "    Montón de ejemplos, y también links a recursos.\n",
    "*   [Perl y Python Side by Side](http://paulgorman.org/technical/scripting_languages_hyperpolyglot.html)\n",
    "    Tabla de equivalencias entre distintas tar\n",
    "* [Google](https://www.google.com)\n"
   ]
  }
 ],
 "metadata": {
  "kernelspec": {
   "display_name": "Python 3",
   "language": "python",
   "name": "python3"
  },
  "language_info": {
   "codemirror_mode": {
    "name": "ipython",
    "version": 3
   },
   "file_extension": ".py",
   "mimetype": "text/x-python",
   "name": "python",
   "nbconvert_exporter": "python",
   "pygments_lexer": "ipython3",
   "version": "3.4.1"
  }
 },
 "nbformat": 4,
 "nbformat_minor": 1
}
