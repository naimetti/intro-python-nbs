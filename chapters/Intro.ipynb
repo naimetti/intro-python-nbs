{
 "cells": [
  {
   "cell_type": "markdown",
   "metadata": {},
   "source": [
    "# Introducción\n",
    "\n",
    "Python es un leguaje de programación interpretado, de tipado dinámico, orientado a objetos, y que soporta también ciertos paradigmas de la programación funcional. \n",
    "\n",
    "Algunas caracteristicas en cuanto a la sintaxis:\n",
    "\n",
    "\n",
    "\n"
   ]
  },
  {
   "cell_type": "markdown",
   "metadata": {},
   "source": [
    "Las lineas o sentencias de código terminan, o menos que se lo indique, con un fin de línea. No utiliza punto y coma **;** al final de las líneas."
   ]
  },
  {
   "cell_type": "code",
   "execution_count": 3,
   "metadata": {
    "collapsed": false
   },
   "outputs": [
    {
     "name": "stdout",
     "output_type": "stream",
     "text": [
      "hola mundo\n"
     ]
    }
   ],
   "source": [
    "foo = \"hola\"\n",
    "bar = \"mundo\"\n",
    "print(foo, bar)"
   ]
  },
  {
   "cell_type": "markdown",
   "metadata": {},
   "source": [
    "Si tengo una línea muy larga, puedo hacer que continue escapando el final de línea de la siguiente manera utilizando \\\\, aunque no es para nada recomendado"
   ]
  },
  {
   "cell_type": "code",
   "execution_count": 8,
   "metadata": {
    "collapsed": false
   },
   "outputs": [
    {
     "data": {
      "text/plain": [
       "15"
      ]
     },
     "execution_count": 8,
     "metadata": {},
     "output_type": "execute_result"
    }
   ],
   "source": [
    "cuenta = 1 + 2 + 3 \\\n",
    "           + 4 + 5  \n",
    "cuenta"
   ]
  },
  {
   "cell_type": "markdown",
   "metadata": {},
   "source": [
    "Un caso especial es cuando se habre algún tipo de parentesis o corchetes, en dichos casos, se permiten secuencias multilínea:"
   ]
  },
  {
   "cell_type": "code",
   "execution_count": 10,
   "metadata": {
    "collapsed": false
   },
   "outputs": [
    {
     "name": "stdout",
     "output_type": "stream",
     "text": [
      "hola mundo\n"
     ]
    }
   ],
   "source": [
    "print( \n",
    "    foo,\n",
    "    bar\n",
    ")"
   ]
  },
  {
   "cell_type": "code",
   "execution_count": 12,
   "metadata": {
    "collapsed": false,
    "scrolled": false
   },
   "outputs": [
    {
     "name": "stdout",
     "output_type": "stream",
     "text": [
      "[1, 2, 4]\n"
     ]
    }
   ],
   "source": [
    "l = [\n",
    "    1,\n",
    "    2,\n",
    "    4\n",
    "]\n",
    "print(l)"
   ]
  },
  {
   "cell_type": "markdown",
   "metadata": {},
   "source": [
    "Los distintos bloques de código, se indican solo por un  dos puntos, seguido por un bloque indentado.\n",
    "\n",
    "**La indentación es obligatoria!**\n",
    "\n",
    "Ejemplo:"
   ]
  },
  {
   "cell_type": "code",
   "execution_count": 24,
   "metadata": {
    "collapsed": false,
    "scrolled": true
   },
   "outputs": [
    {
     "name": "stdout",
     "output_type": "stream",
     "text": [
      "Dentro del if\n",
      "En el loop 1\n",
      "En el loop 1\n",
      "En el loop 4\n",
      "En el loop 27\n",
      "En el loop 256\n",
      "soy una función\n"
     ]
    }
   ],
   "source": [
    "if 4 in (1,3,4):\n",
    "    a = 1 + 6\n",
    "    print(\"Dentro del if\")\n",
    "\n",
    "    \n",
    "for e in range(5):\n",
    "    print(\"En el loop\", e**e)\n",
    "    \n",
    "def f():\n",
    "    print(\"soy una función\")\n",
    "\n",
    "f()"
   ]
  },
  {
   "cell_type": "markdown",
   "metadata": {},
   "source": [
    "Los comentarios comienzan con #"
   ]
  },
  {
   "cell_type": "code",
   "execution_count": 25,
   "metadata": {
    "collapsed": true
   },
   "outputs": [],
   "source": [
    "#soy un comentario\n",
    "a = 1+3 # otro comentario"
   ]
  },
  {
   "cell_type": "markdown",
   "metadata": {},
   "source": [
    "Referencias\n",
    "-------------\n",
    "\n",
    "* [Documentación oficial](https://docs.python.org/3.3/)\n",
    "*   [Python en reddit](https://www.reddit.com/r/Python/)\n",
    "    Datos sobre recursos y noticias.\n",
    "*   [Dive into Python](http://www.diveintopython3.net/)\n",
    "    Una introducción interesante, y sencilla.\n",
    "*   [Stackoverflow sobre python](http://stackoverflow.com/tags/python/info)\n",
    "    Montón de ejemplos, y también links a recursos.\n",
    "*   [Perl y Python Side by Side](http://paulgorman.org/technical/scripting_languages_hyperpolyglot.html)\n",
    "    Tabla de equivalencias entre distintas tar\n",
    "* [Google](https://www.google.com)\n"
   ]
  }
 ],
 "metadata": {
  "kernelspec": {
   "display_name": "Python 3",
   "language": "python",
   "name": "python3"
  },
  "language_info": {
   "codemirror_mode": {
    "name": "ipython",
    "version": 3
   },
   "file_extension": ".py",
   "mimetype": "text/x-python",
   "name": "python",
   "nbconvert_exporter": "python",
   "pygments_lexer": "ipython3",
   "version": "3.3.3"
  }
 },
 "nbformat": 4,
 "nbformat_minor": 0
}
