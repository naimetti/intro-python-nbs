{
 "cells": [
  {
   "cell_type": "markdown",
   "metadata": {},
   "source": [
    "# Generadores e iteradores"
   ]
  },
  {
   "cell_type": "markdown",
   "metadata": {},
   "source": [
    "## Iteradores\n",
    "\n",
    "Un [iterador](https://en.wikipedia.org/wiki/Iterator) es un objeto que permite recorrer los elementos de un contenedor, generalmente listas.\n",
    "\n",
    "En python, se crear iteradores utilizando el método [iter](https://docs.python.org/3/library/functions.html#iter) sobre un contenedor.\n"
   ]
  },
  {
   "cell_type": "code",
   "execution_count": 59,
   "metadata": {
    "collapsed": false
   },
   "outputs": [
    {
     "data": {
      "text/plain": [
       "<list_iterator at 0x7fbd642ab438>"
      ]
     },
     "execution_count": 59,
     "metadata": {},
     "output_type": "execute_result"
    }
   ],
   "source": [
    "l = [i for i in range(4)]\n",
    ">>> [0, 1, 2, 3,]\n",
    "it = iter(l)\n",
    "it"
   ]
  },
  {
   "cell_type": "markdown",
   "metadata": {},
   "source": [
    "En python, un generador debe soportar se invocado mediante la función `next` ante lo cual, retornará el siguiente valor de la colección que esté iterando"
   ]
  },
  {
   "cell_type": "code",
   "execution_count": 60,
   "metadata": {
    "collapsed": false
   },
   "outputs": [
    {
     "data": {
      "text/plain": [
       "3"
      ]
     },
     "execution_count": 60,
     "metadata": {},
     "output_type": "execute_result"
    }
   ],
   "source": [
    "next(it)\n",
    ">>> 0\n",
    "next(it)\n",
    ">>> 1\n",
    "next(it)\n",
    ">>> 2\n",
    "next(it)"
   ]
  },
  {
   "cell_type": "markdown",
   "metadata": {},
   "source": [
    "Si volvermos a invocar `next` una vez que el iterador se ha agotado, este lanzará la excepción `StopIteration`"
   ]
  },
  {
   "cell_type": "code",
   "execution_count": 27,
   "metadata": {
    "collapsed": false
   },
   "outputs": [
    {
     "ename": "StopIteration",
     "evalue": "",
     "output_type": "error",
     "traceback": [
      "\u001b[1;31m---------------------------------------------------------------------------\u001b[0m",
      "\u001b[1;31mStopIteration\u001b[0m                             Traceback (most recent call last)",
      "\u001b[1;32m<ipython-input-27-2cdb14c0d4d6>\u001b[0m in \u001b[0;36m<module>\u001b[1;34m()\u001b[0m\n\u001b[1;32m----> 1\u001b[1;33m \u001b[0mnext\u001b[0m\u001b[1;33m(\u001b[0m\u001b[0mit\u001b[0m\u001b[1;33m)\u001b[0m\u001b[1;33m\u001b[0m\u001b[0m\n\u001b[0m",
      "\u001b[1;31mStopIteration\u001b[0m: "
     ]
    }
   ],
   "source": [
    "next(it)"
   ]
  },
  {
   "cell_type": "markdown",
   "metadata": {},
   "source": [
    "Vistos así, no parecen muy interesantes.\n",
    "\n",
    "Pero podriamos pensar el funcionamiento internos del *for loop*, por ejemplo, de la siguiente manera: internamente cuando recibe una lista (o cualquier tipo de colección) genera un iterador de la misma mediante el método `iter`, y luego va obteniendo los elementes de la misma mediante `next`, hasta que recibe la señal de `StopIteration`.\n",
    "\n",
    "Solo para ver como sería la implementación, crearemos la siguiente función (no es algo que vayamos a hacer al programar):\n"
   ]
  },
  {
   "cell_type": "code",
   "execution_count": 40,
   "metadata": {
    "collapsed": false
   },
   "outputs": [
    {
     "name": "stdout",
     "output_type": "stream",
     "text": [
      "1\n",
      "3\n",
      "4\n"
     ]
    }
   ],
   "source": [
    "def mi_for( seq, f=print ):\n",
    "    it = iter(seq)\n",
    "    try:\n",
    "        while True:\n",
    "            f(next(it))\n",
    "    except StopIteration:\n",
    "        return\n",
    "\n",
    "mi_for([1,3,4])"
   ]
  },
  {
   "cell_type": "markdown",
   "metadata": {},
   "source": [
    "Otro ejemplo de como podría usarse"
   ]
  },
  {
   "cell_type": "code",
   "execution_count": 42,
   "metadata": {
    "collapsed": false
   },
   "outputs": [
    {
     "name": "stdout",
     "output_type": "stream",
     "text": [
      "0\n",
      "1\n",
      "4\n",
      "9\n",
      "16\n"
     ]
    }
   ],
   "source": [
    "mi_for( range(5), f=lambda x: print(x*x))"
   ]
  },
  {
   "cell_type": "markdown",
   "metadata": {},
   "source": [
    "En sí, en python, los generadores, rara vez se itilizan directamente, sino que generalmente se usan a través de un `for`, u otras funciones que están preparadas para utilizarlos. Sin embargo, uno a veces podría valerse de los mismos. \n",
    "\n",
    "Supongamos que tenemos dos listas, y queremos reagrupar los elementes de manera que por cada dos de la primera, haya uno de la segunda. Esto puede hacerse con un simple `while`, manejando numericamente los indices, pero probemos con un iterador:"
   ]
  },
  {
   "cell_type": "code",
   "execution_count": 100,
   "metadata": {
    "collapsed": false
   },
   "outputs": [
    {
     "data": {
      "text/plain": [
       "['a', 'b', 'c', 'd', 'e']"
      ]
     },
     "execution_count": 100,
     "metadata": {},
     "output_type": "execute_result"
    }
   ],
   "source": [
    "l1 = list(range(10))\n",
    ">>> [0, 1, 2, 3, 4, 5, 6, 7, 8, 9]\n",
    "l2 = list(map(chr,range(ord('a'),ord('f'))))\n",
    ">>> ['a', 'b', 'c', 'd', 'e']\n"
   ]
  },
  {
   "cell_type": "markdown",
   "metadata": {},
   "source": [
    "Modo tradicional"
   ]
  },
  {
   "cell_type": "code",
   "execution_count": 107,
   "metadata": {
    "collapsed": false
   },
   "outputs": [
    {
     "data": {
      "text/plain": [
       "[(0, 1, 'a'), (2, 3, 'b'), (4, 5, 'c'), (6, 7, 'd'), (8, 9, 'e')]"
      ]
     },
     "execution_count": 107,
     "metadata": {},
     "output_type": "execute_result"
    }
   ],
   "source": [
    "i = 0\n",
    "hasta = min(len(l1),len(l2))\n",
    "new_list = []\n",
    "while i < hasta:\n",
    "    new_list.append( \n",
    "        ( l1[i*2], l1[(i*2)+1], l2[i]  )\n",
    "    )\n",
    "    i += 1\n",
    "new_list"
   ]
  },
  {
   "cell_type": "markdown",
   "metadata": {},
   "source": [
    "Utilizando iteradores"
   ]
  },
  {
   "cell_type": "code",
   "execution_count": 104,
   "metadata": {
    "collapsed": false
   },
   "outputs": [
    {
     "data": {
      "text/plain": [
       "[(0, 1, 'a'), (2, 3, 'b'), (4, 5, 'c'), (6, 7, 'd'), (8, 9, 'e')]"
      ]
     },
     "execution_count": 104,
     "metadata": {},
     "output_type": "execute_result"
    }
   ],
   "source": [
    "it1, it2 = iter(l1), iter(l2)\n",
    "new_list = []\n",
    "try: \n",
    "    while True:\n",
    "        new_list.append( \n",
    "            (next(it1), next(it1), next(it2))\n",
    "        )\n",
    "except StopIteration: pass\n",
    "new_list"
   ]
  },
  {
   "cell_type": "markdown",
   "metadata": {},
   "source": [
    "Por supuesto, esto puede excribirse de una forma más simple, utilizando la función `zip`."
   ]
  },
  {
   "cell_type": "code",
   "execution_count": 106,
   "metadata": {
    "collapsed": false
   },
   "outputs": [
    {
     "data": {
      "text/plain": [
       "[(0, 1, 'a'), (2, 3, 'b'), (4, 5, 'c'), (6, 7, 'd'), (8, 9, 'e')]"
      ]
     },
     "execution_count": 106,
     "metadata": {},
     "output_type": "execute_result"
    }
   ],
   "source": [
    "it1 = iter(l1)\n",
    "list( zip( it1, it1, iter(l2) ))"
   ]
  },
  {
   "cell_type": "markdown",
   "metadata": {},
   "source": [
    "En el ejemplo anterior, utilizamos `list` para generar una lista en sí, ya que la función `zip` de por sí, lo que devuelve es un iterador"
   ]
  },
  {
   "cell_type": "code",
   "execution_count": 123,
   "metadata": {
    "collapsed": false
   },
   "outputs": [
    {
     "data": {
      "text/plain": [
       "<zip at 0x7fbd642c3348>"
      ]
     },
     "execution_count": 123,
     "metadata": {},
     "output_type": "execute_result"
    }
   ],
   "source": [
    "it1 = iter(l1)\n",
    "zit = zip( it1, it1, iter(l2) )\n",
    "zit"
   ]
  },
  {
   "cell_type": "code",
   "execution_count": 124,
   "metadata": {
    "collapsed": false
   },
   "outputs": [
    {
     "data": {
      "text/plain": [
       "(0, 1, 'a')"
      ]
     },
     "execution_count": 124,
     "metadata": {},
     "output_type": "execute_result"
    }
   ],
   "source": [
    "next(zit)"
   ]
  },
  {
   "cell_type": "code",
   "execution_count": 125,
   "metadata": {
    "collapsed": false
   },
   "outputs": [
    {
     "data": {
      "text/plain": [
       "(2, 3, 'b')"
      ]
     },
     "execution_count": 125,
     "metadata": {},
     "output_type": "execute_result"
    }
   ],
   "source": [
    "next(zit)"
   ]
  },
  {
   "cell_type": "markdown",
   "metadata": {},
   "source": [
    "Los constructores de secuencias, en python, están preparados para recibir iteradores.\n",
    "\n",
    "Los iteradores, al ser invocados por la función `iter`, deben retornarse a sí mismos, de esta forma, pueden ser utilizados en como iterables."
   ]
  },
  {
   "cell_type": "code",
   "execution_count": 126,
   "metadata": {
    "collapsed": false
   },
   "outputs": [
    {
     "data": {
      "text/plain": [
       "(4, 5, 'c')"
      ]
     },
     "execution_count": 126,
     "metadata": {},
     "output_type": "execute_result"
    }
   ],
   "source": [
    "it = iter(zit)\n",
    "next(it)"
   ]
  },
  {
   "cell_type": "code",
   "execution_count": 127,
   "metadata": {
    "collapsed": false
   },
   "outputs": [
    {
     "data": {
      "text/plain": [
       "[(6, 7, 'd'), (8, 9, 'e')]"
      ]
     },
     "execution_count": 127,
     "metadata": {},
     "output_type": "execute_result"
    }
   ],
   "source": [
    "list(it)"
   ]
  },
  {
   "cell_type": "markdown",
   "metadata": {},
   "source": [
    "## Generadores"
   ]
  },
  {
   "cell_type": "markdown",
   "metadata": {},
   "source": [
    "Los [generadores](https://en.wikipedia.org/wiki/Generator_%28computer_programming%29) son un tipo especial de rutinas que pueden ser iteradas. A diferencia de una rutina, en donde la misma se ejecuta completamente y devuelve un valor, el generador es un caso especial de [corutina](https://en.wikipedia.org/wiki/Coroutine), esto es, una rutina con multiples puntos de acceso, en los cuales se suspende y continua la ejecución iterativamente, y en casa uno de estos accesos, o llamas, produce un objeto o valor.\n",
    "\n",
    "En efecto, dicho así es dificil de entender. Pero la idea básica es que a diferencia de las subrutinas que devuelven un único valor, al igual que los iteradores, este tipo de corutinas van _produciendo_ valores a medida que son iterados.\n",
    "\n",
    "En ptyhon, los generadores se definen de manera similar a una función, utilizando la palabra clave _def_. Lo que los identifica como generadores es que en algún lugar de su implementación, utilizan la palabra clave _yield_ para indicar cual es el valor (u objeto) que producirán.\n",
    "\n",
    "Veamos un simple ejemplo (no es lo más común esto, pero sirve bien para introducir el concepto)."
   ]
  },
  {
   "cell_type": "code",
   "execution_count": 165,
   "metadata": {
    "collapsed": false
   },
   "outputs": [
    {
     "data": {
      "text/plain": [
       "<function __main__.config_files>"
      ]
     },
     "execution_count": 165,
     "metadata": {},
     "output_type": "execute_result"
    }
   ],
   "source": [
    "def config_files():\n",
    "    \n",
    "    print('antes de user')\n",
    "    yield 'config/user.conf'\n",
    "    \n",
    "    print('antes de base')\n",
    "    yield 'config/base.conf'\n",
    "     \n",
    "    print('antes de default')\n",
    "    yield 'config/default.conf'\n",
    "     \n",
    "    print('terminamos')\n",
    "    return \n",
    "        \n",
    "config_files"
   ]
  },
  {
   "cell_type": "code",
   "execution_count": 166,
   "metadata": {
    "collapsed": false
   },
   "outputs": [
    {
     "data": {
      "text/plain": [
       "<generator object config_files at 0x7fbcb91610d8>"
      ]
     },
     "execution_count": 166,
     "metadata": {},
     "output_type": "execute_result"
    }
   ],
   "source": [
    "g = config_files()\n",
    "g"
   ]
  },
  {
   "cell_type": "code",
   "execution_count": 167,
   "metadata": {
    "collapsed": false
   },
   "outputs": [
    {
     "name": "stdout",
     "output_type": "stream",
     "text": [
      "antes de user\n"
     ]
    },
    {
     "data": {
      "text/plain": [
       "'config/user.conf'"
      ]
     },
     "execution_count": 167,
     "metadata": {},
     "output_type": "execute_result"
    }
   ],
   "source": [
    "next(g)"
   ]
  },
  {
   "cell_type": "code",
   "execution_count": 168,
   "metadata": {
    "collapsed": false
   },
   "outputs": [
    {
     "name": "stdout",
     "output_type": "stream",
     "text": [
      "antes de base\n"
     ]
    },
    {
     "data": {
      "text/plain": [
       "'config/base.conf'"
      ]
     },
     "execution_count": 168,
     "metadata": {},
     "output_type": "execute_result"
    }
   ],
   "source": [
    "next(g)"
   ]
  },
  {
   "cell_type": "code",
   "execution_count": 169,
   "metadata": {
    "collapsed": false
   },
   "outputs": [
    {
     "name": "stdout",
     "output_type": "stream",
     "text": [
      "antes de default\n"
     ]
    },
    {
     "data": {
      "text/plain": [
       "'config/default.conf'"
      ]
     },
     "execution_count": 169,
     "metadata": {},
     "output_type": "execute_result"
    }
   ],
   "source": [
    "next(g)"
   ]
  },
  {
   "cell_type": "code",
   "execution_count": 170,
   "metadata": {
    "collapsed": false
   },
   "outputs": [
    {
     "name": "stdout",
     "output_type": "stream",
     "text": [
      "terminamos\n"
     ]
    },
    {
     "ename": "StopIteration",
     "evalue": "",
     "output_type": "error",
     "traceback": [
      "\u001b[1;31m---------------------------------------------------------------------------\u001b[0m",
      "\u001b[1;31mStopIteration\u001b[0m                             Traceback (most recent call last)",
      "\u001b[1;32m<ipython-input-170-5f315c5de15b>\u001b[0m in \u001b[0;36m<module>\u001b[1;34m()\u001b[0m\n\u001b[1;32m----> 1\u001b[1;33m \u001b[0mnext\u001b[0m\u001b[1;33m(\u001b[0m\u001b[0mg\u001b[0m\u001b[1;33m)\u001b[0m\u001b[1;33m\u001b[0m\u001b[0m\n\u001b[0m",
      "\u001b[1;31mStopIteration\u001b[0m: "
     ]
    }
   ],
   "source": [
    "next(g)"
   ]
  },
  {
   "cell_type": "markdown",
   "metadata": {},
   "source": [
    "Como vemos, esta función devuelve un iterador, \n",
    "y cada vez que se lo invoca mediante `next`, este ejecuta el código del generador hasta encontrar un `yield` y retorna el valor producido.\n",
    "\n",
    "De manera más simple, podría ejecutarse de la siguiente manera:"
   ]
  },
  {
   "cell_type": "code",
   "execution_count": 172,
   "metadata": {
    "collapsed": false
   },
   "outputs": [
    {
     "name": "stdout",
     "output_type": "stream",
     "text": [
      "antes de user\n",
      "yield ->  config/user.conf\n",
      "antes de base\n",
      "yield ->  config/base.conf\n",
      "antes de default\n",
      "yield ->  config/default.conf\n",
      "terminamos\n"
     ]
    }
   ],
   "source": [
    "for f in config_files():\n",
    "    print('yield -> ', f)"
   ]
  },
  {
   "cell_type": "markdown",
   "metadata": {},
   "source": [
    "Veamos, por ejemplo, como sería la función `enumerate`, en un lenguaje que no soporta corutinas, o generadores:"
   ]
  },
  {
   "cell_type": "code",
   "execution_count": 270,
   "metadata": {
    "collapsed": false
   },
   "outputs": [],
   "source": [
    "def enumerate_func(seq):\n",
    "    ret_list = []\n",
    "    i = 0\n",
    "    for e in seq:\n",
    "        ret_list.append( (i,e) )\n",
    "        i+=1\n",
    "    return ret_list\n",
    "\n"
   ]
  },
  {
   "cell_type": "markdown",
   "metadata": {},
   "source": [
    "Luego, como sería implementada con un generador"
   ]
  },
  {
   "cell_type": "code",
   "execution_count": 273,
   "metadata": {
    "collapsed": false
   },
   "outputs": [],
   "source": [
    "def enumerate_gen(seq):\n",
    "    i = 0\n",
    "    for e in seq:\n",
    "        yield (i, e)\n",
    "        i+=1"
   ]
  },
  {
   "cell_type": "markdown",
   "metadata": {},
   "source": [
    "Ahora veamos com responde cada una"
   ]
  },
  {
   "cell_type": "code",
   "execution_count": 300,
   "metadata": {
    "collapsed": false
   },
   "outputs": [
    {
     "name": "stdout",
     "output_type": "stream",
     "text": [
      "Una lista de 7813 KB\n",
      "1 loops, best of 3: 208 ms per loop\n",
      "10 loops, best of 3: 124 ms per loop\n",
      "10 loops, best of 3: 42.2 ms per loop\n"
     ]
    }
   ],
   "source": [
    "import sys\n",
    "from builtins import enumerate\n",
    "\n",
    "lista = tuple( ( str(i), str(i*i), i ) for i in range(1000000) )\n",
    "print(\"Una lista de {} KB\".format( round(sys.getsizeof( lista ) / 1024) ))\n",
    "\n",
    "def test_func():\n",
    "    for e in enumerate_func( lista ):\n",
    "        pass\n",
    "    return 1\n",
    "\n",
    "def test_gen():\n",
    "    for e in enumerate_gen( lista ):\n",
    "        pass\n",
    "    return 1\n",
    "\n",
    "def test_builtin():\n",
    "    for e in enumerate( lista ):\n",
    "        pass\n",
    "    return 1\n",
    "\n",
    "%timeit test_func()\n",
    "%timeit test_gen()\n",
    "%timeit test_builtin()"
   ]
  },
  {
   "cell_type": "markdown",
   "metadata": {},
   "source": [
    "Sin embargo, esto no es todo. En ambos casos, los loops se corrieron de forma completa. Supongamos ahora, que solo necesitamos buscar un elemento en la lista, y saber su indice (esto, por supuesto, puede hacerse de otra manera, pero sigamos con el ejemplo):"
   ]
  },
  {
   "cell_type": "code",
   "execution_count": 303,
   "metadata": {
    "collapsed": false
   },
   "outputs": [
    {
     "name": "stdout",
     "output_type": "stream",
     "text": [
      "1 loops, best of 3: 196 ms per loop\n"
     ]
    }
   ],
   "source": [
    "def find_func( seq, x):\n",
    "    for i,e in enumerate_func(seq):\n",
    "        if e[0] == str(x):\n",
    "            return i\n",
    "    return None\n",
    "\n",
    "%timeit find_func(lista, 100)   "
   ]
  },
  {
   "cell_type": "code",
   "execution_count": 304,
   "metadata": {
    "collapsed": false
   },
   "outputs": [
    {
     "name": "stdout",
     "output_type": "stream",
     "text": [
      "10000 loops, best of 3: 39.1 µs per loop\n"
     ]
    }
   ],
   "source": [
    "def find_gen( seq, x):\n",
    "    for i,e in enumerate_gen(seq):\n",
    "        if e[0] == str(x):\n",
    "            return i\n",
    "    return None\n",
    "\n",
    "%timeit find_gen(lista, 100)"
   ]
  },
  {
   "cell_type": "markdown",
   "metadata": {},
   "source": [
    "islice"
   ]
  }
 ],
 "metadata": {
  "kernelspec": {
   "display_name": "Python 3",
   "language": "python",
   "name": "python3"
  },
  "language_info": {
   "codemirror_mode": {
    "name": "ipython",
    "version": 3
   },
   "file_extension": ".py",
   "mimetype": "text/x-python",
   "name": "python",
   "nbconvert_exporter": "python",
   "pygments_lexer": "ipython3",
   "version": "3.4.1"
  }
 },
 "nbformat": 4,
 "nbformat_minor": 0
}
