{
 "cells": [
  {
   "cell_type": "markdown",
   "metadata": {},
   "source": [
    "# Modulos \n",
    "\n",
    "Python permite modularizar, organizar y encapsular el código de manera bastante práctica.\n",
    "\n",
    "Aparte de los clases y objetos definidos por uno, y las funciones [built-in](https://docs.python.org/3.3/library/functions.html), que están siempre disponibles (a menos que se las redefinan, en cuyo caso pueden ser importadas desde el módulo `builtins`), uno puede usar las clases y funciones definidas en otros módulos, pero antes deben ser importadas para que estén dispobibles en el namespace actual.\n",
    "\n",
    "La sentencia utilzada para importar modulos u objetos al namespace actual es `import` en sus variantes:\n",
    "    \n",
    "    import module [, module]\n",
    "    \n",
    "    import module as name [, module as name]\n",
    "    \n",
    "    from module import identifier [, identifier]\n",
    "    \n",
    "    from module import identifier as name [, identifier as name]\n",
    "\n",
    "A su vez, un módulo, puede contener a otros módulos. Se utiliza el `.` para representar esta relacion:\n",
    "    \n",
    "    module.submodule.subsubmodule\n",
    "\n",
    "La [Standard Lib](https://docs.python.org/3.3/library/index.html) de Python, contiene una importante colección de módulos para resolver problemas que van desde la programación funcional hasta crear un sevidor web, por nombras algunoes ejempos.\n",
    "\n",
    "Además, está [PyPi](https://pypi.python.org/pypi), el repositorio de paquetes de python, con cientos y cientos de paquetes para resolver casi cualquier tipo de problema. Sin embargo, a la hora de buscar u paquete, o framework, es mejor consultar la [pythonpedia](https://pythonpedia.com/), una guia un poco más refinada, y categoricamente organizada y comentada.\n",
    "\n",
    "Comenzaremos por utilizar algunos módulos de la standard lib, como para ir familiarizandonos con la sintaxis de importar, y con la standard lib en sí. \n",
    "\n"
   ]
  },
  {
   "cell_type": "markdown",
   "metadata": {
    "collapsed": true
   },
   "source": [
    "## copy\n",
    "\n",
    "Como ya vimos, el método de copy de los objetos, realiza una copia superficial. En caso de que queramos realizar una copia profunda, podemos utilizar el método `deepcopy` del módulo `copy`. "
   ]
  },
  {
   "cell_type": "code",
   "execution_count": 15,
   "metadata": {
    "collapsed": false
   },
   "outputs": [
    {
     "data": {
      "text/plain": [
       "{'impares': [1, 3, 5], 'pares': [2, 4, 6, 8]}"
      ]
     },
     "execution_count": 15,
     "metadata": {},
     "output_type": "execute_result"
    }
   ],
   "source": [
    "d = {\n",
    "    'impares': [1,3,5],\n",
    "    'pares': [2,4,6],\n",
    "}\n",
    "\n",
    "dc = d.copy()\n",
    "dc['pares'].append(8)\n",
    "d "
   ]
  },
  {
   "cell_type": "markdown",
   "metadata": {},
   "source": [
    "La copia fue superficial, por eso, la referencia de d['pares'] resultó modificada.\n",
    "\n",
    "Utilizaremos `deepcopy` para evitar esto."
   ]
  },
  {
   "cell_type": "code",
   "execution_count": 20,
   "metadata": {
    "collapsed": false
   },
   "outputs": [
    {
     "data": {
      "text/plain": [
       "({'impares': [1, 3, 5], 'pares': [2, 4, 6]},\n",
       " {'impares': [1, 3, 5], 'pares': [2, 4, 6, 8]})"
      ]
     },
     "execution_count": 20,
     "metadata": {},
     "output_type": "execute_result"
    }
   ],
   "source": [
    "from copy import deepcopy\n",
    "d = {\n",
    "    'impares': [1,3,5],\n",
    "    'pares': [2,4,6],\n",
    "}\n",
    "\n",
    "dc = deepcopy(d)\n",
    "dc['pares'].append(8)\n",
    "d, dc"
   ]
  },
  {
   "cell_type": "markdown",
   "metadata": {},
   "source": [
    "## Decimal\n",
    "\n",
    "Como todos sabemos, la airtmetica de los números flotantes, no es la misma que la que aprendimos en la escuela. \n",
    "\n",
    "Por ejemplo"
   ]
  },
  {
   "cell_type": "code",
   "execution_count": 26,
   "metadata": {
    "collapsed": false
   },
   "outputs": [
    {
     "data": {
      "text/plain": [
       "0.10000000000000009"
      ]
     },
     "execution_count": 26,
     "metadata": {},
     "output_type": "execute_result"
    }
   ],
   "source": [
    "1.1 - 1.0"
   ]
  },
  {
   "cell_type": "markdown",
   "metadata": {},
   "source": [
    "Ese 9 al final, no parece tener mucho sentido (más allá de que a efectos prácticos no significaría nada en la mayoría de los casos).\n",
    "\n",
    "Cuando se trabaja, con notas, por ejemplo, o dinero, es preferible evitar este tipo de problemas, usando el modulo `decimal`"
   ]
  },
  {
   "cell_type": "code",
   "execution_count": 28,
   "metadata": {
    "collapsed": false
   },
   "outputs": [
    {
     "data": {
      "text/plain": [
       "Decimal('0.1')"
      ]
     },
     "execution_count": 28,
     "metadata": {},
     "output_type": "execute_result"
    }
   ],
   "source": [
    "from decimal import Decimal as Dec\n",
    "Dec('1.1') - Dec('1.0')"
   ]
  },
  {
   "cell_type": "markdown",
   "metadata": {},
   "source": [
    "## Datetime\n",
    "\n",
    "Manejo de fechas."
   ]
  },
  {
   "cell_type": "code",
   "execution_count": 35,
   "metadata": {
    "collapsed": false
   },
   "outputs": [
    {
     "data": {
      "text/plain": [
       "datetime.datetime(2015, 10, 9, 19, 16, 36, 552065)"
      ]
     },
     "execution_count": 35,
     "metadata": {},
     "output_type": "execute_result"
    }
   ],
   "source": [
    "# del modulo datetime, importo la clase datetime (como es casi un built-in no sigue la convención)\n",
    "from datetime import datetime, timedelta\n",
    "now = datetime.now()\n",
    "now"
   ]
  },
  {
   "cell_type": "code",
   "execution_count": 44,
   "metadata": {
    "collapsed": false
   },
   "outputs": [
    {
     "data": {
      "text/plain": [
       "datetime.timedelta(20)"
      ]
     },
     "execution_count": 44,
     "metadata": {},
     "output_type": "execute_result"
    }
   ],
   "source": [
    "veinte_dias = timedelta(days=20)\n",
    "veinte_dias"
   ]
  },
  {
   "cell_type": "code",
   "execution_count": 52,
   "metadata": {
    "collapsed": false
   },
   "outputs": [
    {
     "data": {
      "text/plain": [
       "'19/09/2015'"
      ]
     },
     "execution_count": 52,
     "metadata": {},
     "output_type": "execute_result"
    }
   ],
   "source": [
    "era = now  - veinte_dias\n",
    "era.strftime('%d/%m/%Y')"
   ]
  },
  {
   "cell_type": "code",
   "execution_count": 53,
   "metadata": {
    "collapsed": false
   },
   "outputs": [
    {
     "data": {
      "text/plain": [
       "1442700996.552065"
      ]
     },
     "execution_count": 53,
     "metadata": {},
     "output_type": "execute_result"
    }
   ],
   "source": [
    "era.timestamp() # seconds from epoch"
   ]
  },
  {
   "cell_type": "markdown",
   "metadata": {},
   "source": [
    "Para crear un módulo en python, no hace falta más que dos cosas.\n",
    "1. Crear un archivo de la forma *&lt;name>.py*\n",
    "2. La carpeta donde este dicho archivo, debe contener un arhivo llamado *\\__init\\__.py*"
   ]
  }
 ],
 "metadata": {
  "kernelspec": {
   "display_name": "Python 3",
   "language": "python",
   "name": "python3"
  },
  "language_info": {
   "codemirror_mode": {
    "name": "ipython",
    "version": 3
   },
   "file_extension": ".py",
   "mimetype": "text/x-python",
   "name": "python",
   "nbconvert_exporter": "python",
   "pygments_lexer": "ipython3",
   "version": "3.3.3"
  }
 },
 "nbformat": 4,
 "nbformat_minor": 0
}
