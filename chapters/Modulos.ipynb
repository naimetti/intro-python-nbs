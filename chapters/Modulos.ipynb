{
 "cells": [
  {
   "cell_type": "markdown",
   "metadata": {
    "collapsed": true
   },
   "source": [
    "# Modulos \n",
    "\n",
    "Python permite modularizar, organizar y encapsular el código de manera bastante práctica.\n",
    "\n",
    "Aparte de los clases y objetos definidos por uno, y las funciones [built-in](https://docs.python.org/3.3/library/functions.html), que están siempre disponibles (a menos que se las redefinan, en cuyo caso pueden ser importadas desde el módulo `builtins`), uno puede usar las clases y funciones definidas en otros módulos, pero antes deben ser importadas para que estén dispobibles en el namespace actual.\n",
    "\n",
    "La sentencia utilzada para importar modulos u objetos al namespace actual es `import` en sus variantes:\n",
    "    \n",
    "    import module [, module]\n",
    "    \n",
    "    import module as name [, module as name]\n",
    "    \n",
    "    from module import identifier [, identifier]\n",
    "    \n",
    "    from module import identifier as name [, identifier as name]\n",
    "\n",
    "A su vez, un módulo, puede contener a otros módulos. Se utiliza el `.` para representar esta relacion:\n",
    "    \n",
    "    module.submodule.subsubmodule\n",
    "\n",
    "La [Standard Lib](https://docs.python.org/3.3/library/index.html) de Python, contiene una importante colección de módulos para resolver problemas que van desde la programación funcional hasta crear un sevidor web, por nombras algunoes ejempos.\n",
    "\n",
    "Además, está [PyPi](https://pypi.python.org/pypi), el repositorio de paquetes de python, con cientos y cientos de paquetes para resolver casi cualquier tipo de problema. Sin embargo, a la hora de buscar u paquete, o framework, es mejor consultar la [pythonpedia](https://pythonpedia.com/), una guia un poco más refinada, y categoricamente organizada y comentada.\n",
    "\n",
    "Comenzaremos por utilizar algunos módulos de la standard lib, como para ir familiarizandonos con la sintaxis de importar, y con la standard lib en sí. \n",
    "\n"
   ]
  },
  {
   "cell_type": "markdown",
   "metadata": {
    "collapsed": true
   },
   "source": [
    "## copy\n",
    "\n",
    "Como ya vimos, el método de copy de los objetos, realiza una copia superficial. En caso de que queramos realizar una copia profunda, podemos utilizar el método `deepcopy` del módulo `copy`. "
   ]
  },
  {
   "cell_type": "code",
   "execution_count": 15,
   "metadata": {
    "collapsed": false
   },
   "outputs": [
    {
     "data": {
      "text/plain": [
       "{'impares': [1, 3, 5], 'pares': [2, 4, 6, 8]}"
      ]
     },
     "execution_count": 15,
     "metadata": {},
     "output_type": "execute_result"
    }
   ],
   "source": [
    "d = {\n",
    "    'impares': [1,3,5],\n",
    "    'pares': [2,4,6],\n",
    "}\n",
    "\n",
    "dc = d.copy()\n",
    "dc['pares'].append(8)\n",
    "d "
   ]
  },
  {
   "cell_type": "markdown",
   "metadata": {},
   "source": [
    "La copia fue superficial, por eso, la referencia de d['pares'] resultó modificada.\n",
    "\n",
    "Utilizaremos `deepcopy` para evitar esto."
   ]
  },
  {
   "cell_type": "code",
   "execution_count": 20,
   "metadata": {
    "collapsed": false
   },
   "outputs": [
    {
     "data": {
      "text/plain": [
       "({'impares': [1, 3, 5], 'pares': [2, 4, 6]},\n",
       " {'impares': [1, 3, 5], 'pares': [2, 4, 6, 8]})"
      ]
     },
     "execution_count": 20,
     "metadata": {},
     "output_type": "execute_result"
    }
   ],
   "source": [
    "from copy import deepcopy\n",
    "d = {\n",
    "    'impares': [1,3,5],\n",
    "    'pares': [2,4,6],\n",
    "}\n",
    "\n",
    "dc = deepcopy(d)\n",
    "dc['pares'].append(8)\n",
    "d, dc"
   ]
  },
  {
   "cell_type": "markdown",
   "metadata": {},
   "source": [
    "## Decimal\n",
    "\n",
    "Como todos sabemos, la airtmetica de los números flotantes, no es la misma que la que aprendimos en la escuela. \n",
    "\n",
    "Por ejemplo"
   ]
  },
  {
   "cell_type": "code",
   "execution_count": 26,
   "metadata": {
    "collapsed": false
   },
   "outputs": [
    {
     "data": {
      "text/plain": [
       "0.10000000000000009"
      ]
     },
     "execution_count": 26,
     "metadata": {},
     "output_type": "execute_result"
    }
   ],
   "source": [
    "1.1 - 1.0"
   ]
  },
  {
   "cell_type": "markdown",
   "metadata": {},
   "source": [
    "Ese 9 al final, no parece tener mucho sentido (más allá de que a efectos prácticos no significaría nada en la mayoría de los casos).\n",
    "\n",
    "Cuando se trabaja, con notas, por ejemplo, o dinero, es preferible evitar este tipo de problemas, usando el modulo `decimal`"
   ]
  },
  {
   "cell_type": "code",
   "execution_count": 28,
   "metadata": {
    "collapsed": false
   },
   "outputs": [
    {
     "data": {
      "text/plain": [
       "Decimal('0.1')"
      ]
     },
     "execution_count": 28,
     "metadata": {},
     "output_type": "execute_result"
    }
   ],
   "source": [
    "from decimal import Decimal as Dec\n",
    "Dec('1.1') - Dec('1.0')"
   ]
  },
  {
   "cell_type": "markdown",
   "metadata": {},
   "source": [
    "## Datetime\n",
    "\n",
    "Manejo de fechas."
   ]
  },
  {
   "cell_type": "code",
   "execution_count": 38,
   "metadata": {
    "collapsed": false
   },
   "outputs": [
    {
     "data": {
      "text/plain": [
       "datetime.datetime(2015, 10, 13, 15, 11, 48, 816042)"
      ]
     },
     "execution_count": 38,
     "metadata": {},
     "output_type": "execute_result"
    }
   ],
   "source": [
    "# del modulo datetime, importo la clase datetime (como es casi un built-in no sigue la convención)\n",
    "from datetime import datetime, timedelta\n",
    "now = datetime.now()\n",
    "now"
   ]
  },
  {
   "cell_type": "code",
   "execution_count": 39,
   "metadata": {
    "collapsed": false
   },
   "outputs": [
    {
     "data": {
      "text/plain": [
       "datetime.timedelta(20)"
      ]
     },
     "execution_count": 39,
     "metadata": {},
     "output_type": "execute_result"
    }
   ],
   "source": [
    "veinte_dias = timedelta(days=20)\n",
    "veinte_dias"
   ]
  },
  {
   "cell_type": "code",
   "execution_count": 40,
   "metadata": {
    "collapsed": false
   },
   "outputs": [
    {
     "data": {
      "text/plain": [
       "'23/09/2015'"
      ]
     },
     "execution_count": 40,
     "metadata": {},
     "output_type": "execute_result"
    }
   ],
   "source": [
    "era = now  - veinte_dias\n",
    "era.strftime('%d/%m/%Y')"
   ]
  },
  {
   "cell_type": "code",
   "execution_count": 41,
   "metadata": {
    "collapsed": false
   },
   "outputs": [
    {
     "data": {
      "text/plain": [
       "1443031908.816042"
      ]
     },
     "execution_count": 41,
     "metadata": {},
     "output_type": "execute_result"
    }
   ],
   "source": [
    "era.timestamp() # seconds from epoch"
   ]
  },
  {
   "cell_type": "code",
   "execution_count": 1,
   "metadata": {
    "collapsed": false
   },
   "outputs": [
    {
     "name": "stdout",
     "output_type": "stream",
     "text": [
      "(0, 'a', 0)\n",
      "(0, 'a', 1)\n",
      "(0, 'a', 2)\n",
      "(0, 'a', 3)\n",
      "(0, 'a', 4)\n",
      "(0, 'a', 5)\n",
      "(0, 'a', 6)\n",
      "(0, 'a', 7)\n",
      "(0, 'a', 8)\n",
      "(0, 'a', 9)\n",
      "(0, 'a', 10)\n",
      "(0, 'a', 11)\n"
     ]
    }
   ],
   "source": [
    "l1 = [  i**3 for i in range(100)]\n",
    "l2 = ['a','b','c']\n",
    "l3 = [ i for i in range(100)]\n",
    "from itertools import product\n",
    "\n",
    "for i,t in enumerate(product(l1,l2,l3)):\n",
    "    print(t)\n",
    "    if i > 10: break\n"
   ]
  },
  {
   "cell_type": "code",
   "execution_count": 57,
   "metadata": {
    "collapsed": false
   },
   "outputs": [
    {
     "data": {
      "text/plain": [
       "[(0, 1, 2),\n",
       " (3, 4, 5),\n",
       " (6, 7, 8),\n",
       " (9, 10, 11),\n",
       " (12, 13, 14),\n",
       " (15, 16, 17),\n",
       " (18, 19, 20),\n",
       " (21, 22, 23),\n",
       " (24, 25, 26),\n",
       " (27, 28, 29),\n",
       " (30, 31, 32),\n",
       " (33, 34, 35),\n",
       " (36, 37, 38),\n",
       " (39, 40, 41),\n",
       " (42, 43, 44),\n",
       " (45, 46, 47),\n",
       " (48, 49, None)]"
      ]
     },
     "execution_count": 57,
     "metadata": {},
     "output_type": "execute_result"
    }
   ],
   "source": [
    "from itertools import  zip_longest\n",
    "\n",
    "def chunks(iterable, n, fillvalue=None):\n",
    "    \"Collect data into fixed-length chunks or blocks\"\n",
    "    # grouper('ABCDEFG', 3, 'x') --> ABC DEF Gxx\"\n",
    "    args = [iter(iterable)] * n\n",
    "    return zip_longest(*args, fillvalue=fillvalue)\n",
    "\n",
    "\n",
    "l1 = [  i for i in range(50)]\n",
    "\n",
    "list(chunks(l1,3))\n",
    "\n"
   ]
  },
  {
   "cell_type": "markdown",
   "metadata": {},
   "source": [
    "\n",
    "Para crear un módulo en python, no hace falta más que dos cosas.\n",
    "1. Crear un archivo de la forma *&lt;name>.py*\n",
    "2. La carpeta donde este dicho archivo, debe contener un arhivo llamado *\\__init\\__.py*"
   ]
  },
  {
   "cell_type": "code",
   "execution_count": 32,
   "metadata": {
    "collapsed": false
   },
   "outputs": [
    {
     "data": {
      "text/plain": [
       "['1.08.13-01', '2.09.02-1', '9.09.01-1', '11.08.8-1']"
      ]
     },
     "execution_count": 32,
     "metadata": {},
     "output_type": "execute_result"
    }
   ],
   "source": [
    "\n",
    "import re\n",
    "s = \"1.09.19-1\"\n",
    "\n",
    "\n",
    "def ver_to_tuple( s ):\n",
    "    m = re.match('(\\d+)\\.(\\d+)\\.(\\d+)-(\\d+)',s)\n",
    "    return [ int(x) for x in m.groups() ]\n",
    "\n",
    "\n",
    "versiones = [  \"1.08.13-01\", \"11.08.8-1\", \"2.09.02-1\",\"9.09.01-1\"  ]\n",
    "versiones.sort(key=ver_to_tuple)\n",
    "versiones\n",
    "\n",
    "\n",
    "# m = re.match('(\\d+)\\.(\\d+)\\.(\\d+)-(\\d+)',s)\n",
    "# m.groups()"
   ]
  },
  {
   "cell_type": "code",
   "execution_count": 36,
   "metadata": {
    "collapsed": false
   },
   "outputs": [
    {
     "ename": "SyntaxError",
     "evalue": "invalid syntax (<ipython-input-36-1d628f72fdfd>, line 1)",
     "output_type": "error",
     "traceback": [
      "\u001b[1;36m  File \u001b[1;32m\"<ipython-input-36-1d628f72fdfd>\"\u001b[1;36m, line \u001b[1;32m1\u001b[0m\n\u001b[1;33m    if = 1\u001b[0m\n\u001b[1;37m       ^\u001b[0m\n\u001b[1;31mSyntaxError\u001b[0m\u001b[1;31m:\u001b[0m invalid syntax\n"
     ]
    }
   ],
   "source": []
  },
  {
   "cell_type": "code",
   "execution_count": 53,
   "metadata": {
    "collapsed": false
   },
   "outputs": [
    {
     "data": {
      "text/plain": [
       "defaultdict(list, {1: [1]})"
      ]
     },
     "execution_count": 53,
     "metadata": {},
     "output_type": "execute_result"
    }
   ],
   "source": [
    "from collections import  defaultdict\n",
    "\n",
    "d = defaultdict(list);\n",
    "\n",
    "d[1].append(1)\n",
    "d"
   ]
  },
  {
   "cell_type": "code",
   "execution_count": 55,
   "metadata": {
    "collapsed": false
   },
   "outputs": [
    {
     "data": {
      "text/plain": [
       "['',\n",
       " '/home/nick/code/python/3.3/virtualenv/lib64/python33.zip',\n",
       " '/home/nick/code/python/3.3/virtualenv/lib64/python3.3',\n",
       " '/home/nick/code/python/3.3/virtualenv/lib64/python3.3/plat-linux',\n",
       " '/home/nick/code/python/3.3/virtualenv/lib64/python3.3/lib-dynload',\n",
       " '/usr/lib64/python3.3',\n",
       " '/usr/lib/python3.3',\n",
       " '/usr/lib/python3.3/plat-linux',\n",
       " '/home/nick/code/python/3.3/virtualenv/lib/python3.3/site-packages',\n",
       " '/home/nick/code/python/3.3/virtualenv/lib/python3.3/site-packages/IPython/extensions',\n",
       " '/home/nick/.ipython']"
      ]
     },
     "execution_count": 55,
     "metadata": {},
     "output_type": "execute_result"
    }
   ],
   "source": [
    "import sys\n",
    "\n",
    "sys.path"
   ]
  }
 ],
 "metadata": {
  "kernelspec": {
   "display_name": "Python 3",
   "language": "python",
   "name": "python3"
  },
  "language_info": {
   "codemirror_mode": {
    "name": "ipython",
    "version": 3
   },
   "file_extension": ".py",
   "mimetype": "text/x-python",
   "name": "python",
   "nbconvert_exporter": "python",
   "pygments_lexer": "ipython3",
   "version": "3.3.3"
  }
 },
 "nbformat": 4,
 "nbformat_minor": 0
}
