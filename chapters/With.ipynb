{
 "cells": [
  {
   "cell_type": "markdown",
   "metadata": {},
   "source": [
    "# Contex Manager\n",
    "\n",
    "Un context manager en python, se define con la sentencia `with` de la siguiente manera\n",
    "\n",
    "    with_stmt ::=  \"with\" with_item (\",\" with_item)* \":\" suite\n",
    "    with_item ::=  expression [\"as\" target]\n",
    "\n",
    "Básicamente, un context manages se encarga de inicializar un contexto para ciertas acciones, y asegurarse luego de limpiar, o finalizar el contexto. No es nada esencial, ni que no pueda realizarse mediante contrucciones de programación clásicas, sin embargo, ofrece cierta prácticidad a la hora de realizar ciertos patrones de programación.\n",
    "\n",
    "Por ejemplo, al abrir un archivo, luego debemos asegurnos de que este ha sido cerrado correctamente. Esto puede realizarse de la siguiente manera:\n"
   ]
  },
  {
   "cell_type": "code",
   "execution_count": 42,
   "metadata": {
    "collapsed": false
   },
   "outputs": [
    {
     "name": "stdout",
     "output_type": "stream",
     "text": [
      "A\n",
      "\n"
     ]
    }
   ],
   "source": [
    "fd = open('/usr/share/dict/words',mode='r')\n",
    "try:\n",
    "    print( fd.readline() )\n",
    "finally:\n",
    "    fd.close()\n"
   ]
  },
  {
   "cell_type": "markdown",
   "metadata": {},
   "source": [
    "En el ejemplo anterior, es importante la contrucción `try ... finally` para asegurarnos de que el archivo sea cerrado, aun en caso de que ocurra algún error.\n",
    "\n",
    "Esto mismo puede hacerse con la sentencia `with` de forma un poco más consisa."
   ]
  },
  {
   "cell_type": "code",
   "execution_count": 41,
   "metadata": {
    "collapsed": false
   },
   "outputs": [
    {
     "name": "stdout",
     "output_type": "stream",
     "text": [
      "A\n",
      "\n"
     ]
    }
   ],
   "source": [
    "with open('/usr/share/dict/words',mode='r') as fd:\n",
    "    print( fd.readline() )\n"
   ]
  },
  {
   "cell_type": "markdown",
   "metadata": {},
   "source": [
    "Esto es posible debido a que open devuelve un objeto que soporta la interfaz de context manager. Esto sería, una función **\\__enter\\__** que se ejecuta al entrar al with, y una función **\\__exit\\__** que se ejecuta al salir, haya excepciones o no. \n",
    "\n",
    "Vemos un ejemplo de como implementar un context manager, para realizar transacciones a una base de datos."
   ]
  },
  {
   "cell_type": "code",
   "execution_count": 117,
   "metadata": {
    "collapsed": false
   },
   "outputs": [],
   "source": [
    "class Transaction:\n",
    "    \n",
    "    def __init__(self, con):\n",
    "        ''' \n",
    "            Toma una conección a la base de datos como parámetro\n",
    "        '''\n",
    "        self.con = con\n",
    "    \n",
    "    def __enter__(self):\n",
    "        ''' \n",
    "        La función enter, en caso de que devuelva un valor, lo asociará al targer especificado por 'as' en caso \n",
    "        de que haya alguno.\n",
    "        '''\n",
    "        self.cur = self.con.cursor()\n",
    "        return self.cur\n",
    "    \n",
    "    def __exit__(self, exc_type, exc_value, traceback):\n",
    "        '''\n",
    "        La función exit tomo como parametros el tipo de excepción, el valor, y un traceback. \n",
    "        En caso de que no haya error, serán todos nulos.\n",
    "        '''\n",
    "        if exc_type:\n",
    "            print('Hubo un error: rollback!')\n",
    "            self.con.rollback()\n",
    "        else:\n",
    "            print('Todo bien: commit!')\n",
    "            self.con.commit()\n",
    "        \n",
    "        self.cur.close()\n",
    "        return True\n",
    "        \n",
    "\n"
   ]
  },
  {
   "cell_type": "markdown",
   "metadata": {},
   "source": [
    "Para probarlo, utilizaremos el módulo `sqlite3` de la standard library y crearemos un base de datos en memoría, con una tabla _people_"
   ]
  },
  {
   "cell_type": "code",
   "execution_count": 114,
   "metadata": {
    "collapsed": false
   },
   "outputs": [],
   "source": [
    "import sqlite3\n",
    "\n",
    "con = sqlite3.connect(\":memory:\")\n",
    "cur = con.cursor()\n",
    "cur.execute(\"drop table if exists  people\")\n",
    "cur.execute(\"create table people (name, age)\")\n",
    "cur.close()\n",
    "con.commit()\n"
   ]
  },
  {
   "cell_type": "markdown",
   "metadata": {},
   "source": [
    "Todo lo que se realice dentro de la transacción que definimo, será commiteado a la base, salvo que ocurra algún error, en cuyo caso, se hará un rollback."
   ]
  },
  {
   "cell_type": "code",
   "execution_count": 115,
   "metadata": {
    "collapsed": false
   },
   "outputs": [
    {
     "name": "stdout",
     "output_type": "stream",
     "text": [
      "Hubo un error: rollback!\n"
     ]
    }
   ],
   "source": [
    "with Transaction(con) as cur:\n",
    "    cur.execute(\"insert into people values (?, ?)\", ('pedro', 20))\n",
    "    raise Exception('ocurrio un error')\n",
    "    cur.execute(\"insert into people values (?, ?)\", ('juan', 18))\n"
   ]
  },
  {
   "cell_type": "markdown",
   "metadata": {},
   "source": [
    "Consultamos la base para ver si los resultados llegaron a commitearse. "
   ]
  },
  {
   "cell_type": "code",
   "execution_count": 112,
   "metadata": {
    "collapsed": false
   },
   "outputs": [],
   "source": [
    "cur = con.cursor()\n",
    "cur.execute(\"select name, age from people\")\n",
    "for row in cur:\n",
    "    print(row)\n"
   ]
  },
  {
   "cell_type": "markdown",
   "metadata": {},
   "source": [
    "## Referencias\n",
    "\n",
    "* [PEP](https://www.python.org/dev/peps/pep-0343/)\n",
    "* [contextlib](https://docs.python.org/3/library/contextlib.html)"
   ]
  }
 ],
 "metadata": {
  "kernelspec": {
   "display_name": "Python 3",
   "language": "python",
   "name": "python3"
  },
  "language_info": {
   "codemirror_mode": {
    "name": "ipython",
    "version": 3
   },
   "file_extension": ".py",
   "mimetype": "text/x-python",
   "name": "python",
   "nbconvert_exporter": "python",
   "pygments_lexer": "ipython3",
   "version": "3.3.3"
  }
 },
 "nbformat": 4,
 "nbformat_minor": 0
}
