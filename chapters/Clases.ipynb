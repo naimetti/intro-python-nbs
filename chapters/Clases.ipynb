{
 "cells": [
  {
   "cell_type": "markdown",
   "metadata": {},
   "source": [
    "# Clases\n",
    "\n",
    "* Definición\n",
    "* Atributos \n",
    "* Constructor\n",
    "* Métodos\n",
    "* Herencia\n",
    "* Instrospección\n",
    "* Mixins\n",
    "* Métodos de clase\n",
    "* Métodos estáticos\n",
    "* Clases anidadas\n",
    "* Métodos especiales\n"
   ]
  },
  {
   "cell_type": "markdown",
   "metadata": {},
   "source": [
    "## Definición\n",
    "\n",
    "Las clases en python se definen mediante la palabre clave __class__ de la siguiente manera."
   ]
  },
  {
   "cell_type": "code",
   "execution_count": 4,
   "metadata": {
    "collapsed": false
   },
   "outputs": [
    {
     "data": {
      "text/plain": [
       "__main__.A"
      ]
     },
     "execution_count": 4,
     "metadata": {},
     "output_type": "execute_result"
    }
   ],
   "source": [
    "class A:\n",
    "    pass #indica que no hay ninguna definición asociada, salvo la definición\n",
    "\n",
    "A"
   ]
  },
  {
   "cell_type": "markdown",
   "metadata": {},
   "source": [
    "Las mismas serán siempre de tipo _type_"
   ]
  },
  {
   "cell_type": "code",
   "execution_count": 117,
   "metadata": {
    "collapsed": false
   },
   "outputs": [
    {
     "data": {
      "text/plain": [
       "type"
      ]
     },
     "execution_count": 117,
     "metadata": {},
     "output_type": "execute_result"
    }
   ],
   "source": [
    "type(A)"
   ]
  },
  {
   "cell_type": "markdown",
   "metadata": {},
   "source": [
    "Ahora instanciaremos un objeto de la clase _A_. Para instanciar un objeto de una clase, se llama a la clase como si fuese una función. No es necesario ningún operador extra tipo new."
   ]
  },
  {
   "cell_type": "code",
   "execution_count": 119,
   "metadata": {
    "collapsed": false
   },
   "outputs": [
    {
     "data": {
      "text/plain": [
       "<__main__.A at 0x7fe7dc193890>"
      ]
     },
     "execution_count": 119,
     "metadata": {},
     "output_type": "execute_result"
    }
   ],
   "source": [
    "a = A()\n",
    "a #Un objeto de tipo A"
   ]
  },
  {
   "cell_type": "code",
   "execution_count": 155,
   "metadata": {
    "collapsed": false
   },
   "outputs": [
    {
     "data": {
      "text/plain": [
       "__main__.A"
      ]
     },
     "execution_count": 155,
     "metadata": {},
     "output_type": "execute_result"
    }
   ],
   "source": [
    "type(a)"
   ]
  },
  {
   "cell_type": "markdown",
   "metadata": {},
   "source": [
    "## Atributos"
   ]
  },
  {
   "cell_type": "markdown",
   "metadata": {},
   "source": [
    "Los objetos defindos como clases, pueden contener atributos, los cuales son editables por defecto."
   ]
  },
  {
   "cell_type": "code",
   "execution_count": 120,
   "metadata": {
    "collapsed": false
   },
   "outputs": [
    {
     "data": {
      "text/plain": [
       "1"
      ]
     },
     "execution_count": 120,
     "metadata": {},
     "output_type": "execute_result"
    }
   ],
   "source": [
    "a.attr = 1\n",
    "a.attr"
   ]
  },
  {
   "cell_type": "code",
   "execution_count": 121,
   "metadata": {
    "collapsed": false,
    "scrolled": true
   },
   "outputs": [
    {
     "data": {
      "text/plain": [
       "('otra cosa', [1, 2, 3])"
      ]
     },
     "execution_count": 121,
     "metadata": {},
     "output_type": "execute_result"
    }
   ],
   "source": [
    "a.attr = \"otra cosa\"\n",
    "a.otro = [1,2,3]\n",
    "a.attr, a.otro"
   ]
  },
  {
   "cell_type": "markdown",
   "metadata": {},
   "source": [
    "A su vez, se pued definir atributos al momento de ser definir las clases."
   ]
  },
  {
   "cell_type": "code",
   "execution_count": 125,
   "metadata": {
    "collapsed": true
   },
   "outputs": [],
   "source": [
    "class A:\n",
    "    x = 1\n",
    "    y = 2"
   ]
  },
  {
   "cell_type": "markdown",
   "metadata": {},
   "source": [
    "Los mismos pueden ser accedidos como atributos de la clase en sí."
   ]
  },
  {
   "cell_type": "code",
   "execution_count": 127,
   "metadata": {
    "collapsed": false
   },
   "outputs": [
    {
     "data": {
      "text/plain": [
       "(1, 2)"
      ]
     },
     "execution_count": 127,
     "metadata": {},
     "output_type": "execute_result"
    }
   ],
   "source": [
    "A.x, A.y"
   ]
  },
  {
   "cell_type": "markdown",
   "metadata": {},
   "source": [
    "O bien asociados a un objeto."
   ]
  },
  {
   "cell_type": "code",
   "execution_count": 128,
   "metadata": {
    "collapsed": false
   },
   "outputs": [
    {
     "data": {
      "text/plain": [
       "1"
      ]
     },
     "execution_count": 128,
     "metadata": {},
     "output_type": "execute_result"
    }
   ],
   "source": [
    "a = A()\n",
    "a.x"
   ]
  },
  {
   "cell_type": "markdown",
   "metadata": {},
   "source": [
    "En caso de modificarse el atributo del objeto, no se modifica el de la clase. Son distintas instancias."
   ]
  },
  {
   "cell_type": "code",
   "execution_count": 129,
   "metadata": {
    "collapsed": false
   },
   "outputs": [
    {
     "data": {
      "text/plain": [
       "(5, 1)"
      ]
     },
     "execution_count": 129,
     "metadata": {},
     "output_type": "execute_result"
    }
   ],
   "source": [
    "a.x = 5\n",
    "a.x, A.x"
   ]
  },
  {
   "cell_type": "markdown",
   "metadata": {},
   "source": [
    "Se debe evitar, definir referencias de esta manera, ya que las mismas,\n",
    "a menos que se redefinan, serán compartidas por todos los objetos de la clase."
   ]
  },
  {
   "cell_type": "code",
   "execution_count": 138,
   "metadata": {
    "collapsed": false
   },
   "outputs": [
    {
     "data": {
      "text/plain": [
       "([1, 2, 3], [1, 2, 3], [1, 2, 3])"
      ]
     },
     "execution_count": 138,
     "metadata": {},
     "output_type": "execute_result"
    }
   ],
   "source": [
    "class A:\n",
    "    lista = []\n",
    "\n",
    "a = A()\n",
    "\n",
    "b = A()\n",
    "\n",
    "a.lista.extend([1,2,3])\n",
    "\n",
    "a.lista, b.lista, A.lista"
   ]
  },
  {
   "cell_type": "markdown",
   "metadata": {},
   "source": [
    "De haberse asignado un nuevo valor al atributo, este caso no tendría lugar. De todas maneras, siempre hay que inicializar atributos directamente en la clase con objetos mutables."
   ]
  },
  {
   "cell_type": "code",
   "execution_count": 140,
   "metadata": {
    "collapsed": false
   },
   "outputs": [
    {
     "data": {
      "text/plain": [
       "([1, 2, 3], [], [])"
      ]
     },
     "execution_count": 140,
     "metadata": {},
     "output_type": "execute_result"
    }
   ],
   "source": [
    "class A:\n",
    "    lista = []\n",
    "\n",
    "a = A()\n",
    "\n",
    "b = A()\n",
    "\n",
    "a.lista = [1,2,3]\n",
    "\n",
    "a.lista, b.lista, A.lista"
   ]
  },
  {
   "cell_type": "markdown",
   "metadata": {},
   "source": [
    "## Constructor \n",
    "\n",
    "Para inicializar una clase, se utiliza en método especial **\\__init\\__**. Los métodos especiales de las clases, o internos, siempre están entre un par de guiones bajos. El método **\\__init\\__** es un lugar seguro para definir los atributos de la clase, y evitar casos como el del ejemplo anterior.\n",
    "\n",
    "A todo esto, los métodos de las clases se definen igual que las funciones, solo que toman como primer parámetro la variable _self_"
   ]
  },
  {
   "cell_type": "code",
   "execution_count": 137,
   "metadata": {
    "collapsed": false
   },
   "outputs": [
    {
     "data": {
      "text/plain": [
       "([1, 2, 3], [])"
      ]
     },
     "execution_count": 137,
     "metadata": {},
     "output_type": "execute_result"
    }
   ],
   "source": [
    "class A:\n",
    "    \n",
    "    def __init__(self):\n",
    "        self.foo = []\n",
    "\n",
    "a = A()\n",
    "b = A()\n",
    "a.foo.extend([1,2,3])\n",
    "a.foo, b.foo\n",
    "    "
   ]
  },
  {
   "cell_type": "markdown",
   "metadata": {},
   "source": [
    "El constructor de la clase, puede recibir parámetros, de la siguiente manera. "
   ]
  },
  {
   "cell_type": "code",
   "execution_count": 144,
   "metadata": {
    "collapsed": false
   },
   "outputs": [
    {
     "data": {
      "text/plain": [
       "(5, 6)"
      ]
     },
     "execution_count": 144,
     "metadata": {},
     "output_type": "execute_result"
    }
   ],
   "source": [
    "class A:\n",
    "    \n",
    "    def __init__(self, foo, bar):\n",
    "        self.foo = foo\n",
    "        self.bar = bar\n",
    "        #nunca retorna valor\n",
    "\n",
    "a = A(5, 6)\n",
    "a.foo, a.bar"
   ]
  },
  {
   "cell_type": "markdown",
   "metadata": {},
   "source": [
    "Todas las reglas en cuanto a parámetros que aplican a las funciones, aplican a los métodos. "
   ]
  },
  {
   "cell_type": "code",
   "execution_count": 148,
   "metadata": {
    "collapsed": false
   },
   "outputs": [
    {
     "data": {
      "text/plain": [
       "(5, 'default')"
      ]
     },
     "execution_count": 148,
     "metadata": {},
     "output_type": "execute_result"
    }
   ],
   "source": [
    "\n",
    "class A:\n",
    "    def __init__(self, foo, bar=\"default\"):\n",
    "        self.foo = foo\n",
    "        self.bar = bar\n",
    "        #nunca retorna valor\n",
    "\n",
    "a = A( 5)\n",
    "\n",
    "a.foo, a.bar  "
   ]
  },
  {
   "cell_type": "markdown",
   "metadata": {},
   "source": [
    "## Métodos\n",
    "\n",
    "Un ejemplo de definición de clase, un poco más complejo."
   ]
  },
  {
   "cell_type": "code",
   "execution_count": 157,
   "metadata": {
    "collapsed": false
   },
   "outputs": [
    {
     "name": "stdout",
     "output_type": "stream",
     "text": [
      "ḿodulo 1,0: 1.0\n",
      "ḿodulo 1,1: 1.4142135623730951\n",
      "componentes de v1: (1, 1)\n",
      "Componentes de v1+(2,1): (3, 2)\n"
     ]
    }
   ],
   "source": [
    "from math import sqrt\n",
    "\n",
    "class Vect:\n",
    "    def __init__(self, x=0.0, y=0.0):\n",
    "        self.x, self.y = x, y\n",
    "    \n",
    "    def modulo(self):\n",
    "        return sqrt(self.x**2 + self.y**2)\n",
    "    \n",
    "    def componentes(self):\n",
    "        return (self.x, self.y)\n",
    "    \n",
    "    def add(self, v=None , x=None, y=None ):\n",
    "        if v is None:\n",
    "            v = type(self)(x,y) #Esta de crear un nuevo objeto, soportará la herencia\n",
    "\n",
    "        return Vect(  self.x + v.x,  self.y + v.y ) #Esta no, pero también es válida.\n",
    "\n",
    "v1 = Vect(1)\n",
    "print(\"ḿodulo 1,0:\", v1.modulo() )\n",
    "    \n",
    "v1 = Vect(1,1)\n",
    "print(\"ḿodulo 1,1:\", v1.modulo() )\n",
    "\n",
    "print(\"componentes de v1:\", v1.componentes() )\n",
    "\n",
    "v2 = v1.add( x=2, y=1)\n",
    "\n",
    "print(\"Componentes de v1+(2,1):\", v2.componentes())"
   ]
  },
  {
   "cell_type": "markdown",
   "metadata": {},
   "source": [
    "## Herencia "
   ]
  },
  {
   "cell_type": "markdown",
   "metadata": {},
   "source": [
    "Definiremos primero una clase con algunos atributos básicos y métodos."
   ]
  },
  {
   "cell_type": "code",
   "execution_count": 198,
   "metadata": {
    "collapsed": false
   },
   "outputs": [],
   "source": [
    "class Animal:\n",
    "    patas = 4\n",
    "    name = ''\n",
    "    \n",
    "    def dice(self):\n",
    "        return 'nada'\n",
    "\n",
    "    def gender(self):\n",
    "        return ''\n",
    "\n",
    "    def desc(self):\n",
    "        print(\"{} {} tiene {} patas y dice {} \".format(self.gender(),self.name, self.patas, self.dice()))\n",
    "   \n"
   ]
  },
  {
   "cell_type": "markdown",
   "metadata": {},
   "source": [
    "La herencia, se indica entre paréntesis, luego del nombre de la clase. \n",
    "\n",
    "Definiremos entonces una clase _Vaca_ que herede de _Animal_"
   ]
  },
  {
   "cell_type": "code",
   "execution_count": 199,
   "metadata": {
    "collapsed": false
   },
   "outputs": [
    {
     "name": "stdout",
     "output_type": "stream",
     "text": [
      "La vaca tiene 4 patas y dice mu \n"
     ]
    }
   ],
   "source": [
    "class Vaca(Animal):\n",
    "    name = 'vaca'\n",
    "        \n",
    "    def dice(self):\n",
    "        return 'mu'\n",
    "    \n",
    "    def gender(self):\n",
    "        return 'La'\n",
    "    \n",
    "vaca = Vaca()\n",
    "vaca.desc()"
   ]
  },
  {
   "cell_type": "code",
   "execution_count": 162,
   "metadata": {
    "collapsed": false
   },
   "outputs": [
    {
     "name": "stdout",
     "output_type": "stream",
     "text": [
      "El pollo tiene 2 patas y dice pio pio \n"
     ]
    }
   ],
   "source": [
    "class Pollo(Animal):\n",
    "    name = 'pollo'\n",
    "    patas = 2 \n",
    "    \n",
    "    def dice(self):\n",
    "        return \"pio pio\"\n",
    "    \n",
    "    def gender(self):\n",
    "        return 'El'\n",
    " \n",
    "pollo = Pollo()\n",
    "pollo.desc()\n"
   ]
  },
  {
   "cell_type": "markdown",
   "metadata": {},
   "source": [
    "En caso de que uno quiera saber si una clase (o sea un tipo) hereda de otra, se puede utilizar la función __issubclass__"
   ]
  },
  {
   "cell_type": "code",
   "execution_count": 82,
   "metadata": {
    "collapsed": false
   },
   "outputs": [
    {
     "data": {
      "text/plain": [
       "True"
      ]
     },
     "execution_count": 82,
     "metadata": {},
     "output_type": "execute_result"
    }
   ],
   "source": [
    "issubclass(Pollo,Animal)"
   ]
  },
  {
   "cell_type": "code",
   "execution_count": 163,
   "metadata": {
    "collapsed": false
   },
   "outputs": [
    {
     "data": {
      "text/plain": [
       "False"
      ]
     },
     "execution_count": 163,
     "metadata": {},
     "output_type": "execute_result"
    }
   ],
   "source": [
    "issubclass(Pollo, Vaca)"
   ]
  },
  {
   "cell_type": "markdown",
   "metadata": {},
   "source": [
    "En caso de que queramos saber si un objeto (una instancia de un tipo), hereda de una clase, se puede utilizar __isinstance__."
   ]
  },
  {
   "cell_type": "code",
   "execution_count": 86,
   "metadata": {
    "collapsed": false
   },
   "outputs": [
    {
     "data": {
      "text/plain": [
       "True"
      ]
     },
     "execution_count": 86,
     "metadata": {},
     "output_type": "execute_result"
    }
   ],
   "source": [
    "isinstance(pollo, Pollo)"
   ]
  },
  {
   "cell_type": "code",
   "execution_count": 164,
   "metadata": {
    "collapsed": false
   },
   "outputs": [
    {
     "data": {
      "text/plain": [
       "True"
      ]
     },
     "execution_count": 164,
     "metadata": {},
     "output_type": "execute_result"
    }
   ],
   "source": [
    "isinstance(pollo, Animal)"
   ]
  },
  {
   "cell_type": "markdown",
   "metadata": {},
   "source": [
    "La función **vars**, puede utilizarse para listar los atributos de un objeto."
   ]
  },
  {
   "cell_type": "code",
   "execution_count": 165,
   "metadata": {
    "collapsed": false
   },
   "outputs": [
    {
     "data": {
      "text/plain": [
       "{}"
      ]
     },
     "execution_count": 165,
     "metadata": {},
     "output_type": "execute_result"
    }
   ],
   "source": [
    "vars(pollo)"
   ]
  },
  {
   "cell_type": "markdown",
   "metadata": {},
   "source": [
    "Pero solo listará aquellos que hayan sido definidos en dicho objeto, no en la clase. Salvo para debug, no es muy util."
   ]
  },
  {
   "cell_type": "code",
   "execution_count": 94,
   "metadata": {
    "collapsed": false
   },
   "outputs": [
    {
     "data": {
      "text/plain": [
       "{'pico': 'si'}"
      ]
     },
     "execution_count": 94,
     "metadata": {},
     "output_type": "execute_result"
    }
   ],
   "source": [
    "pollo.pico = 'si'\n",
    "vars(pollo)"
   ]
  },
  {
   "cell_type": "code",
   "execution_count": 201,
   "metadata": {
    "collapsed": false
   },
   "outputs": [
    {
     "name": "stdout",
     "output_type": "stream",
     "text": [
      "El pollo tiene 4 patas y dice pio pio \n"
     ]
    },
    {
     "data": {
      "text/plain": [
       "{'name': 'pollo', 'pico': 'si'}"
      ]
     },
     "execution_count": 201,
     "metadata": {},
     "output_type": "execute_result"
    }
   ],
   "source": [
    "class Pollo(Animal):\n",
    "    \n",
    "    def __init__(self):\n",
    "        self.pico = 'si'\n",
    "        self.name = 'pollo'\n",
    "        \n",
    "    def dice(self):\n",
    "        return \"pio pio\"\n",
    "    \n",
    "    def gender(self):\n",
    "        return 'El'\n",
    " \n",
    "pollo = Pollo()\n",
    "pollo.desc()\n",
    "vars(pollo)"
   ]
  },
  {
   "cell_type": "markdown",
   "metadata": {},
   "source": [
    "En caso de que se desee accceder de manera programática los atributos de una clase, se puede utilizar las siguientes funciones."
   ]
  },
  {
   "cell_type": "code",
   "execution_count": 171,
   "metadata": {
    "collapsed": false
   },
   "outputs": [
    {
     "data": {
      "text/plain": [
       "False"
      ]
     },
     "execution_count": 171,
     "metadata": {},
     "output_type": "execute_result"
    }
   ],
   "source": [
    "hasattr(vaca,'pico')"
   ]
  },
  {
   "cell_type": "code",
   "execution_count": 173,
   "metadata": {
    "collapsed": true
   },
   "outputs": [],
   "source": [
    "setattr(vaca,'patas',5)"
   ]
  },
  {
   "cell_type": "code",
   "execution_count": 176,
   "metadata": {
    "collapsed": false
   },
   "outputs": [
    {
     "data": {
      "text/plain": [
       "5"
      ]
     },
     "execution_count": 176,
     "metadata": {},
     "output_type": "execute_result"
    }
   ],
   "source": [
    "getattr(vaca,'patas')"
   ]
  },
  {
   "cell_type": "markdown",
   "metadata": {},
   "source": [
    "Tener en cuanta, que los método, son también attributos de las onjetos de una clase:"
   ]
  },
  {
   "cell_type": "code",
   "execution_count": 184,
   "metadata": {
    "collapsed": false
   },
   "outputs": [
    {
     "data": {
      "text/plain": [
       "'mu'"
      ]
     },
     "execution_count": 184,
     "metadata": {},
     "output_type": "execute_result"
    }
   ],
   "source": [
    "getattr(vaca,'dice')()"
   ]
  },
  {
   "cell_type": "markdown",
   "metadata": {},
   "source": [
    "En caso de que se desee llamar un método de las superclases, se puede utilizar la función __super__"
   ]
  },
  {
   "cell_type": "code",
   "execution_count": 207,
   "metadata": {
    "collapsed": false
   },
   "outputs": [
    {
     "name": "stdout",
     "output_type": "stream",
     "text": [
      "\n",
      "            Cuando fui pollo dije: pio pio\n",
      "            Ahora digo: kokoroko\n",
      "        \n"
     ]
    }
   ],
   "source": [
    "class Gallo(Pollo):\n",
    "    \n",
    "    def dice(self):\n",
    "        \n",
    "        pollo_say = super().dice();\n",
    "                       \n",
    "        return '''\n",
    "            Cuando fui pollo dije: {pollo_say}\n",
    "            Ahora digo: kokoroko\n",
    "        '''.format( pollo_say= pollo_say )\n",
    "\n",
    "print(Gallo().dice())"
   ]
  },
  {
   "cell_type": "markdown",
   "metadata": {},
   "source": [
    "## Mixins\n",
    "\n",
    "En los lenguajes de programación orientada a objetos, un mixin es una clase que ofrece cierta funcionalidad para ser heredada por una subclase, pero no está ideada para ser autónoma. Heredar de un mixin no es una forma de especialización sino más bien un medio de obtener funcionalidad. Una subclase puede incluso escoger heredar gran parte o el total de su funcionalidad heredando de uno o más mixins mediante herencia múltiple."
   ]
  },
  {
   "cell_type": "code",
   "execution_count": 112,
   "metadata": {
    "collapsed": false
   },
   "outputs": [],
   "source": [
    "class Vehiculo:\n",
    "    ruedas = 2\n",
    "    \n",
    "class Auto(Vehiculo):\n",
    "    ruedas = 4\n",
    "    \n",
    "class Camion(Vehiculo):\n",
    "    ruedas = 6\n",
    "    \n",
    "class Sirena:\n",
    "    sirena_on = False\n",
    "    \n",
    "    def encender_sirena(self):\n",
    "        self.sirena_on = True\n",
    "    \n",
    "    def apagar_sirena(self):\n",
    "        self.sirena_on = False\n",
    "        \n",
    "     \n",
    "class Patrullero(Sirena, Auto):\n",
    "    pass\n",
    "\n",
    "class CamionBomberos(Sirena, Camion):\n",
    "    pass\n",
    "\n",
    "class Casa:\n",
    "    pass\n",
    "\n",
    "class CasaAlarma(Sirena, Casa):\n",
    "    pass\n",
    "\n",
    " "
   ]
  },
  {
   "cell_type": "code",
   "execution_count": 115,
   "metadata": {
    "collapsed": false
   },
   "outputs": [
    {
     "data": {
      "text/plain": [
       "(__main__.Patrullero,\n",
       " __main__.Sirena,\n",
       " __main__.Auto,\n",
       " __main__.Vehiculo,\n",
       " object)"
      ]
     },
     "execution_count": 115,
     "metadata": {},
     "output_type": "execute_result"
    }
   ],
   "source": [
    "import inspect\n",
    "# method reolution order\n",
    "inspect.getmro(Patrullero)\n"
   ]
  }
 ],
 "metadata": {
  "kernelspec": {
   "display_name": "Python 3",
   "language": "python",
   "name": "python3"
  },
  "language_info": {
   "codemirror_mode": {
    "name": "ipython",
    "version": 3
   },
   "file_extension": ".py",
   "mimetype": "text/x-python",
   "name": "python",
   "nbconvert_exporter": "python",
   "pygments_lexer": "ipython3",
   "version": "3.3.3"
  }
 },
 "nbformat": 4,
 "nbformat_minor": 0
}
