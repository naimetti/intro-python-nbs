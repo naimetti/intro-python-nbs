{
 "cells": [
  {
   "cell_type": "markdown",
   "metadata": {},
   "source": [
    "# Clases\n",
    "\n",
    "* [Definición](#Definición)\n",
    "* [Atributos](#Atributos)\n",
    "* [Constructor](#Constructor)\n",
    "* [Métodos](#Métodos)\n",
    "* [Herencia](#Herencia)\n",
    "* [Mixins](#Mixins)\n",
    "* [Introspección](#Introspección)\n",
    "* [Métodos de clases](#Métodos-de-clases)\n",
    "* [Métodos estáticos](#Métodos-estáticos)\n",
    "* [Clases anidadas](#Clases-anidadas)\n",
    "* [Métodos especiales](#Métodos-especiales)\n",
    "\n"
   ]
  },
  {
   "cell_type": "markdown",
   "metadata": {},
   "source": [
    "## Definición\n",
    "\n",
    "Las clases en python se definen mediante la palabre clave __class__ de la siguiente manera.\n",
    "\n",
    "Por convención, las clases en python se nombran utilizando mixed case, y comenzando siempre por mayúscula."
   ]
  },
  {
   "cell_type": "code",
   "execution_count": 1,
   "metadata": {
    "collapsed": false
   },
   "outputs": [
    {
     "data": {
      "text/plain": [
       "__main__.A"
      ]
     },
     "execution_count": 1,
     "metadata": {},
     "output_type": "execute_result"
    }
   ],
   "source": [
    "class A:\n",
    "    pass #indica que no hay ninguna definición más asociada. O sea, que se trata de una clase vacía.\n",
    "\n",
    "A"
   ]
  },
  {
   "cell_type": "markdown",
   "metadata": {},
   "source": [
    "Las mismas serán siempre de tipo _type_"
   ]
  },
  {
   "cell_type": "code",
   "execution_count": 2,
   "metadata": {
    "collapsed": false
   },
   "outputs": [
    {
     "data": {
      "text/plain": [
       "type"
      ]
     },
     "execution_count": 2,
     "metadata": {},
     "output_type": "execute_result"
    }
   ],
   "source": [
    "type(A)"
   ]
  },
  {
   "cell_type": "markdown",
   "metadata": {},
   "source": [
    "Ahora instanciaremos un objeto de la clase _A_. Para instanciar un objeto de una clase, se llama a la clase como si fuese una función. No es necesario ningún operador extra tipo new."
   ]
  },
  {
   "cell_type": "code",
   "execution_count": 3,
   "metadata": {
    "collapsed": false
   },
   "outputs": [
    {
     "data": {
      "text/plain": [
       "<__main__.A at 0x7fb6a156e320>"
      ]
     },
     "execution_count": 3,
     "metadata": {},
     "output_type": "execute_result"
    }
   ],
   "source": [
    "a = A()\n",
    "a #Un objeto de tipo A"
   ]
  },
  {
   "cell_type": "code",
   "execution_count": 4,
   "metadata": {
    "collapsed": false
   },
   "outputs": [
    {
     "data": {
      "text/plain": [
       "__main__.A"
      ]
     },
     "execution_count": 4,
     "metadata": {},
     "output_type": "execute_result"
    }
   ],
   "source": [
    "type(a)"
   ]
  },
  {
   "cell_type": "markdown",
   "metadata": {},
   "source": [
    "## Atributos"
   ]
  },
  {
   "cell_type": "markdown",
   "metadata": {},
   "source": [
    "Los objetos defindos como clases, pueden contener atributos, los cuales son editables por defecto."
   ]
  },
  {
   "cell_type": "code",
   "execution_count": 5,
   "metadata": {
    "collapsed": false
   },
   "outputs": [
    {
     "data": {
      "text/plain": [
       "1"
      ]
     },
     "execution_count": 5,
     "metadata": {},
     "output_type": "execute_result"
    }
   ],
   "source": [
    "a.attr = 1\n",
    "a.attr"
   ]
  },
  {
   "cell_type": "code",
   "execution_count": 6,
   "metadata": {
    "collapsed": false,
    "scrolled": true
   },
   "outputs": [
    {
     "data": {
      "text/plain": [
       "('otra cosa', [1, 2, 3])"
      ]
     },
     "execution_count": 6,
     "metadata": {},
     "output_type": "execute_result"
    }
   ],
   "source": [
    "a.attr = \"otra cosa\"\n",
    "a.otro = [1,2,3]\n",
    "a.attr, a.otro"
   ]
  },
  {
   "cell_type": "markdown",
   "metadata": {},
   "source": [
    "A su vez, se pued definir atributos al momento de ser definir las clases."
   ]
  },
  {
   "cell_type": "code",
   "execution_count": 7,
   "metadata": {
    "collapsed": true
   },
   "outputs": [],
   "source": [
    "class A:\n",
    "    x = 1\n",
    "    y = 2"
   ]
  },
  {
   "cell_type": "markdown",
   "metadata": {},
   "source": [
    "Los mismos pueden ser accedidos como atributos de la clase en sí."
   ]
  },
  {
   "cell_type": "code",
   "execution_count": 8,
   "metadata": {
    "collapsed": false
   },
   "outputs": [
    {
     "data": {
      "text/plain": [
       "(1, 2)"
      ]
     },
     "execution_count": 8,
     "metadata": {},
     "output_type": "execute_result"
    }
   ],
   "source": [
    "A.x, A.y"
   ]
  },
  {
   "cell_type": "markdown",
   "metadata": {},
   "source": [
    "O bien asociados a un objeto."
   ]
  },
  {
   "cell_type": "code",
   "execution_count": 9,
   "metadata": {
    "collapsed": false
   },
   "outputs": [
    {
     "data": {
      "text/plain": [
       "1"
      ]
     },
     "execution_count": 9,
     "metadata": {},
     "output_type": "execute_result"
    }
   ],
   "source": [
    "a = A()\n",
    "a.x"
   ]
  },
  {
   "cell_type": "markdown",
   "metadata": {},
   "source": [
    "En caso de modificarse el atributo del objeto, no se modifica el de la clase. Son distintas instancias."
   ]
  },
  {
   "cell_type": "code",
   "execution_count": 10,
   "metadata": {
    "collapsed": false
   },
   "outputs": [
    {
     "data": {
      "text/plain": [
       "(5, 1)"
      ]
     },
     "execution_count": 10,
     "metadata": {},
     "output_type": "execute_result"
    }
   ],
   "source": [
    "a.x = 5\n",
    "a.x, A.x"
   ]
  },
  {
   "cell_type": "markdown",
   "metadata": {},
   "source": [
    "Se debe evitar, definir referencias de esta manera, ya que las mismas,\n",
    "a menos que se redefinan, serán compartidas por todos los objetos de la clase."
   ]
  },
  {
   "cell_type": "code",
   "execution_count": 11,
   "metadata": {
    "collapsed": false
   },
   "outputs": [
    {
     "data": {
      "text/plain": [
       "([1, 2, 3], [1, 2, 3], [1, 2, 3])"
      ]
     },
     "execution_count": 11,
     "metadata": {},
     "output_type": "execute_result"
    }
   ],
   "source": [
    "class A:\n",
    "    lista = []\n",
    "\n",
    "a = A()\n",
    "\n",
    "b = A()\n",
    "\n",
    "a.lista.extend([1,2,3])\n",
    "\n",
    "a.lista, b.lista, A.lista"
   ]
  },
  {
   "cell_type": "markdown",
   "metadata": {},
   "source": [
    "De haberse asignado un nuevo valor al atributo, este caso no tendría lugar. De todas maneras, siempre hay que inicializar atributos directamente en la clase con objetos mutables."
   ]
  },
  {
   "cell_type": "code",
   "execution_count": 12,
   "metadata": {
    "collapsed": false
   },
   "outputs": [
    {
     "data": {
      "text/plain": [
       "([1, 2, 3], [], [])"
      ]
     },
     "execution_count": 12,
     "metadata": {},
     "output_type": "execute_result"
    }
   ],
   "source": [
    "class A:\n",
    "    lista = []\n",
    "\n",
    "a = A()\n",
    "\n",
    "b = A()\n",
    "\n",
    "a.lista = [1,2,3]\n",
    "\n",
    "a.lista, b.lista, A.lista"
   ]
  },
  {
   "cell_type": "markdown",
   "metadata": {},
   "source": [
    "## Constructor \n",
    "\n",
    "Para inicializar una clase, se utiliza en método especial **\\__init\\__**. Los métodos especiales de las clases, o internos, siempre están entre un par de guiones bajos. El método **\\__init\\__** es un lugar seguro para definir los atributos de la clase, y evitar casos como el del ejemplo anterior.\n",
    "\n",
    "A todo esto, los métodos de las clases se definen igual que las funciones, solo que toman como primer parámetro la variable _self_"
   ]
  },
  {
   "cell_type": "code",
   "execution_count": 13,
   "metadata": {
    "collapsed": false
   },
   "outputs": [
    {
     "data": {
      "text/plain": [
       "([1, 2, 3], [])"
      ]
     },
     "execution_count": 13,
     "metadata": {},
     "output_type": "execute_result"
    }
   ],
   "source": [
    "class A:\n",
    "    \n",
    "    def __init__(self):\n",
    "        self.foo = []\n",
    "\n",
    "a = A()\n",
    "b = A()\n",
    "a.foo.extend([1,2,3])\n",
    "a.foo, b.foo\n",
    "    "
   ]
  },
  {
   "cell_type": "markdown",
   "metadata": {},
   "source": [
    "El constructor de la clase, puede recibir parámetros, de la siguiente manera. "
   ]
  },
  {
   "cell_type": "code",
   "execution_count": 14,
   "metadata": {
    "collapsed": false
   },
   "outputs": [
    {
     "data": {
      "text/plain": [
       "(5, 6)"
      ]
     },
     "execution_count": 14,
     "metadata": {},
     "output_type": "execute_result"
    }
   ],
   "source": [
    "class A:\n",
    "    \n",
    "    def __init__(self, foo, bar):\n",
    "        self.foo = foo\n",
    "        self.bar = bar\n",
    "        #nunca retorna valor\n",
    "\n",
    "a = A(5, 6)\n",
    "a.foo, a.bar"
   ]
  },
  {
   "cell_type": "markdown",
   "metadata": {},
   "source": [
    "Todas las reglas en cuanto a parámetros que aplican a las funciones, aplican a los métodos. "
   ]
  },
  {
   "cell_type": "code",
   "execution_count": 15,
   "metadata": {
    "collapsed": false
   },
   "outputs": [
    {
     "data": {
      "text/plain": [
       "(5, 'default')"
      ]
     },
     "execution_count": 15,
     "metadata": {},
     "output_type": "execute_result"
    }
   ],
   "source": [
    "\n",
    "class A:\n",
    "    def __init__(self, foo, bar=\"default\"):\n",
    "        self.foo = foo\n",
    "        self.bar = bar\n",
    "        #nunca retorna valor\n",
    "\n",
    "a = A( 5)\n",
    "\n",
    "a.foo, a.bar  "
   ]
  },
  {
   "cell_type": "markdown",
   "metadata": {},
   "source": [
    "## Métodos\n",
    "\n",
    "Un ejemplo de definición de clase, un poco más complejo."
   ]
  },
  {
   "cell_type": "code",
   "execution_count": 16,
   "metadata": {
    "collapsed": false
   },
   "outputs": [
    {
     "name": "stdout",
     "output_type": "stream",
     "text": [
      "ḿodulo 1,0: 1.0\n",
      "ḿodulo 1,1: 1.4142135623730951\n",
      "componentes de v1: (1, 1)\n",
      "Componentes de v1+(2,1): (3, 2)\n"
     ]
    }
   ],
   "source": [
    "from math import sqrt\n",
    "\n",
    "class Vect:\n",
    "    def __init__(self, x=0.0, y=0.0):\n",
    "        self.x, self.y = x, y\n",
    "    \n",
    "    def modulo(self):\n",
    "        return sqrt(self.x**2 + self.y**2)\n",
    "    \n",
    "    def componentes(self):\n",
    "        return (self.x, self.y)\n",
    "    \n",
    "    def add(self, v=None , x=None, y=None ):\n",
    "        if v is None:\n",
    "            v = type(self)(x,y) #Esta de crear un nuevo objeto, soportará la herencia\n",
    "\n",
    "        return Vect(  self.x + v.x,  self.y + v.y ) #Esta no, pero también es válida.\n",
    "\n",
    "v1 = Vect(1)\n",
    "print(\"ḿodulo 1,0:\", v1.modulo() )\n",
    "    \n",
    "v1 = Vect(1,1)\n",
    "print(\"ḿodulo 1,1:\", v1.modulo() )\n",
    "\n",
    "print(\"componentes de v1:\", v1.componentes() )\n",
    "\n",
    "v2 = v1.add( x=2, y=1)\n",
    "\n",
    "print(\"Componentes de v1+(2,1):\", v2.componentes())"
   ]
  },
  {
   "cell_type": "markdown",
   "metadata": {},
   "source": [
    "## Herencia "
   ]
  },
  {
   "cell_type": "markdown",
   "metadata": {},
   "source": [
    "Definiremos primero una clase con algunos atributos básicos y métodos."
   ]
  },
  {
   "cell_type": "code",
   "execution_count": 17,
   "metadata": {
    "collapsed": false
   },
   "outputs": [],
   "source": [
    "class Animal:\n",
    "    patas = 4\n",
    "    name = ''\n",
    "    \n",
    "    def dice(self):\n",
    "        return 'nada'\n",
    "\n",
    "    def gender(self):\n",
    "        return ''\n",
    "\n",
    "    def desc(self):\n",
    "        print(\"{} {} tiene {} patas y dice {} \".format(self.gender(),self.name, self.patas, self.dice()))\n",
    "   \n"
   ]
  },
  {
   "cell_type": "markdown",
   "metadata": {},
   "source": [
    "La herencia, se indica entre paréntesis, luego del nombre de la clase. \n",
    "\n",
    "Definiremos entonces una clase _Vaca_ que herede de _Animal_"
   ]
  },
  {
   "cell_type": "code",
   "execution_count": 18,
   "metadata": {
    "collapsed": false
   },
   "outputs": [
    {
     "name": "stdout",
     "output_type": "stream",
     "text": [
      "La vaca tiene 4 patas y dice mu \n"
     ]
    }
   ],
   "source": [
    "class Vaca(Animal):\n",
    "    name = 'vaca'\n",
    "        \n",
    "    def dice(self):\n",
    "        return 'mu'\n",
    "    \n",
    "    def gender(self):\n",
    "        return 'La'\n",
    "    \n",
    "vaca = Vaca()\n",
    "vaca.desc()"
   ]
  },
  {
   "cell_type": "code",
   "execution_count": 19,
   "metadata": {
    "collapsed": false
   },
   "outputs": [
    {
     "name": "stdout",
     "output_type": "stream",
     "text": [
      "El pollo tiene 2 patas y dice pio pio \n"
     ]
    }
   ],
   "source": [
    "class Pollo(Animal):\n",
    "    name = 'pollo'\n",
    "    patas = 2 \n",
    "    \n",
    "    def dice(self):\n",
    "        return \"pio pio\"\n",
    "    \n",
    "    def gender(self):\n",
    "        return 'El'\n",
    " \n",
    "pollo = Pollo()\n",
    "pollo.desc()\n"
   ]
  },
  {
   "cell_type": "markdown",
   "metadata": {},
   "source": [
    "En caso de que uno quiera saber si una clase (o sea un tipo) hereda de otra, se puede utilizar la función __issubclass__"
   ]
  },
  {
   "cell_type": "code",
   "execution_count": 20,
   "metadata": {
    "collapsed": false
   },
   "outputs": [
    {
     "data": {
      "text/plain": [
       "True"
      ]
     },
     "execution_count": 20,
     "metadata": {},
     "output_type": "execute_result"
    }
   ],
   "source": [
    "issubclass(Pollo,Animal)"
   ]
  },
  {
   "cell_type": "code",
   "execution_count": 21,
   "metadata": {
    "collapsed": false
   },
   "outputs": [
    {
     "data": {
      "text/plain": [
       "False"
      ]
     },
     "execution_count": 21,
     "metadata": {},
     "output_type": "execute_result"
    }
   ],
   "source": [
    "issubclass(Pollo, Vaca)"
   ]
  },
  {
   "cell_type": "markdown",
   "metadata": {},
   "source": [
    "En caso de que queramos saber si un objeto (una instancia de un tipo), hereda de una clase, se puede utilizar __isinstance__."
   ]
  },
  {
   "cell_type": "code",
   "execution_count": 22,
   "metadata": {
    "collapsed": false
   },
   "outputs": [
    {
     "data": {
      "text/plain": [
       "True"
      ]
     },
     "execution_count": 22,
     "metadata": {},
     "output_type": "execute_result"
    }
   ],
   "source": [
    "isinstance(pollo, Pollo)"
   ]
  },
  {
   "cell_type": "code",
   "execution_count": 23,
   "metadata": {
    "collapsed": false
   },
   "outputs": [
    {
     "data": {
      "text/plain": [
       "True"
      ]
     },
     "execution_count": 23,
     "metadata": {},
     "output_type": "execute_result"
    }
   ],
   "source": [
    "isinstance(pollo, Animal)"
   ]
  },
  {
   "cell_type": "markdown",
   "metadata": {},
   "source": [
    "La función **vars**, puede utilizarse para listar los atributos de un objeto."
   ]
  },
  {
   "cell_type": "code",
   "execution_count": 24,
   "metadata": {
    "collapsed": false
   },
   "outputs": [
    {
     "data": {
      "text/plain": [
       "{}"
      ]
     },
     "execution_count": 24,
     "metadata": {},
     "output_type": "execute_result"
    }
   ],
   "source": [
    "vars(pollo)"
   ]
  },
  {
   "cell_type": "markdown",
   "metadata": {},
   "source": [
    "Pero solo listará aquellos que hayan sido definidos en dicho objeto, no en la clase. Salvo para debug, no es muy util."
   ]
  },
  {
   "cell_type": "code",
   "execution_count": 25,
   "metadata": {
    "collapsed": false
   },
   "outputs": [
    {
     "data": {
      "text/plain": [
       "{'pico': 'si'}"
      ]
     },
     "execution_count": 25,
     "metadata": {},
     "output_type": "execute_result"
    }
   ],
   "source": [
    "pollo.pico = 'si'\n",
    "vars(pollo)"
   ]
  },
  {
   "cell_type": "code",
   "execution_count": 26,
   "metadata": {
    "collapsed": false
   },
   "outputs": [
    {
     "name": "stdout",
     "output_type": "stream",
     "text": [
      "El pollo tiene 4 patas y dice pio pio \n"
     ]
    },
    {
     "data": {
      "text/plain": [
       "{'name': 'pollo', 'pico': 'si'}"
      ]
     },
     "execution_count": 26,
     "metadata": {},
     "output_type": "execute_result"
    }
   ],
   "source": [
    "class Pollo(Animal):\n",
    "    \n",
    "    def __init__(self):\n",
    "        self.pico = 'si'\n",
    "        self.name = 'pollo'\n",
    "        \n",
    "    def dice(self):\n",
    "        return \"pio pio\"\n",
    "    \n",
    "    def gender(self):\n",
    "        return 'El'\n",
    " \n",
    "pollo = Pollo()\n",
    "pollo.desc()\n",
    "vars(pollo)"
   ]
  },
  {
   "cell_type": "markdown",
   "metadata": {},
   "source": [
    "En caso de que se desee accceder de manera programática los atributos de una clase, se puede utilizar las siguientes funciones."
   ]
  },
  {
   "cell_type": "code",
   "execution_count": 27,
   "metadata": {
    "collapsed": false
   },
   "outputs": [
    {
     "data": {
      "text/plain": [
       "False"
      ]
     },
     "execution_count": 27,
     "metadata": {},
     "output_type": "execute_result"
    }
   ],
   "source": [
    "hasattr(vaca,'pico')"
   ]
  },
  {
   "cell_type": "code",
   "execution_count": 28,
   "metadata": {
    "collapsed": true
   },
   "outputs": [],
   "source": [
    "setattr(vaca,'patas',5)"
   ]
  },
  {
   "cell_type": "code",
   "execution_count": 29,
   "metadata": {
    "collapsed": false
   },
   "outputs": [
    {
     "data": {
      "text/plain": [
       "5"
      ]
     },
     "execution_count": 29,
     "metadata": {},
     "output_type": "execute_result"
    }
   ],
   "source": [
    "getattr(vaca,'patas')"
   ]
  },
  {
   "cell_type": "markdown",
   "metadata": {},
   "source": [
    "Tener en cuanta, que los método, son también attributos de las onjetos de una clase:"
   ]
  },
  {
   "cell_type": "code",
   "execution_count": 30,
   "metadata": {
    "collapsed": false
   },
   "outputs": [
    {
     "data": {
      "text/plain": [
       "'mu'"
      ]
     },
     "execution_count": 30,
     "metadata": {},
     "output_type": "execute_result"
    }
   ],
   "source": [
    "getattr(vaca,'dice')()"
   ]
  },
  {
   "cell_type": "markdown",
   "metadata": {},
   "source": [
    "En caso de que se desee llamar un método de las superclases, se puede utilizar la función __super__"
   ]
  },
  {
   "cell_type": "code",
   "execution_count": 37,
   "metadata": {
    "collapsed": false
   },
   "outputs": [
    {
     "name": "stdout",
     "output_type": "stream",
     "text": [
      "Cuando fui pollo dije: pio pio\n",
      "Ahora digo: kokoroko\n",
      "\n"
     ]
    }
   ],
   "source": [
    "class Gallo(Pollo):\n",
    "    \n",
    "    def dice(self):\n",
    "        \n",
    "        pollo_say = super().dice();\n",
    "                       \n",
    "        return \"Cuando fui pollo dije: {pollo_say}\\n\" \\\n",
    "               \"Ahora digo: kokoroko\\n\" \\\n",
    "               .format( pollo_say= pollo_say )\n",
    "\n",
    "print(Gallo().dice())"
   ]
  },
  {
   "cell_type": "markdown",
   "metadata": {},
   "source": [
    "## Mixins\n",
    "\n",
    "Si bien el concepto de mixin no es algo propio de python, sino un concepto generico en la programación orientada a objetos, es un buen momento para introducir el mismo, ya que python, mediante la herencia multiple, y sobre todo django, hacen uso extensivo del mismo. \n",
    "\n",
    ">En los lenguajes de programación orientada a objetos, un mixin es una clase que ofrece cierta funcionalidad para ser heredada por una subclase, pero no está ideada para ser autónoma. Heredar de un mixin no es una forma de especialización sino más bien un medio de obtener funcionalidad. Una subclase puede incluso escoger heredar gran parte o el total de su funcionalidad heredando de uno o más mixins mediante herencia múltiple. -\n",
    ">Wikipedia\n",
    "\n",
    "\n",
    "Vemos un ejemplo de mixin en python, que reproduce el siguiente diagrama de clases:\n",
    "<img src=\"media/mixin.png\" style=\"width:80%; height:80%\" >"
   ]
  },
  {
   "cell_type": "code",
   "execution_count": 39,
   "metadata": {
    "collapsed": false
   },
   "outputs": [],
   "source": [
    "class Vehiculo:\n",
    "    ruedas = 2\n",
    "    \n",
    "class Auto(Vehiculo):\n",
    "    ruedas = 4\n",
    "    \n",
    "class Camion(Vehiculo):\n",
    "    ruedas = 6\n",
    "    \n",
    "class Sirena:\n",
    "    sirena_on = False\n",
    "    \n",
    "    def encender_sirena(self):\n",
    "        self.sirena_on = True\n",
    "    \n",
    "    def apagar_sirena(self):\n",
    "        self.sirena_on = False\n",
    "        \n",
    "     \n",
    "class Patrullero(Sirena, Auto):\n",
    "    pass\n",
    "\n",
    "class CamionBomberos(Sirena, Camion):\n",
    "    pass\n",
    "\n",
    "class Casa:\n",
    "    pass\n",
    "\n",
    "class CasaConAlarma(Sirena, Casa):\n",
    "    pass\n",
    " "
   ]
  },
  {
   "cell_type": "markdown",
   "metadata": {},
   "source": [
    "## Introspección\n",
    "\n",
    "En caso de que uno desee consultar el orden de reolución de los métodos en un caso de herencia, o la herencia de la clase, se puede consultar mediante el método __getmro__ del módulo inspect. El mismo ofrece otras funciones, que si quieren, pueden explorar."
   ]
  },
  {
   "cell_type": "code",
   "execution_count": 41,
   "metadata": {
    "collapsed": false
   },
   "outputs": [
    {
     "data": {
      "text/plain": [
       "(__main__.Patrullero,\n",
       " __main__.Sirena,\n",
       " __main__.Auto,\n",
       " __main__.Vehiculo,\n",
       " object)"
      ]
     },
     "execution_count": 41,
     "metadata": {},
     "output_type": "execute_result"
    }
   ],
   "source": [
    "import inspect\n",
    "# method resolution order\n",
    "inspect.getmro(Patrullero)\n"
   ]
  },
  {
   "cell_type": "markdown",
   "metadata": {},
   "source": [
    "## Métodos de clases\n",
    "\n",
    "Un método de clase, es un método que recibe como primer parámetro la clase a la cual pertence. El mismo puede ser invocado directamente desde la clase, o bien desde un objeto.\n",
    "\n",
    "Para indicar un método de clase, se utiliza el decorador __@classmethod__ (más adelante veremos bien que son los decoradores)"
   ]
  },
  {
   "cell_type": "code",
   "execution_count": 61,
   "metadata": {
    "collapsed": true
   },
   "outputs": [],
   "source": [
    "class Foo:\n",
    "    \n",
    "    def __init__(self, x, y):\n",
    "        self.x = x\n",
    "        self.y = y\n",
    "    \n",
    "    def to_str(self):\n",
    "        return str('Foo({},{})'.format(self.x,self.y) )\n",
    "    \n",
    "    @classmethod\n",
    "    def new_foo(cls, x, y):\n",
    "        return cls(x, y)"
   ]
  },
  {
   "cell_type": "code",
   "execution_count": 62,
   "metadata": {
    "collapsed": false
   },
   "outputs": [
    {
     "data": {
      "text/plain": [
       "'Foo(1,2)'"
      ]
     },
     "execution_count": 62,
     "metadata": {},
     "output_type": "execute_result"
    }
   ],
   "source": [
    "f1 = Foo.new_foo( 1, 2 )\n",
    "f1.to_str()"
   ]
  },
  {
   "cell_type": "code",
   "execution_count": 63,
   "metadata": {
    "collapsed": false
   },
   "outputs": [
    {
     "data": {
      "text/plain": [
       "'Foo(3,4)'"
      ]
     },
     "execution_count": 63,
     "metadata": {},
     "output_type": "execute_result"
    }
   ],
   "source": [
    "f2 = f1.new_foo(3,4)\n",
    "f2.to_str()"
   ]
  },
  {
   "cell_type": "markdown",
   "metadata": {},
   "source": [
    "## Métodos estáticos\n",
    "\n",
    "El método estático, es un método definido en la clase, que puede ser invocado desde la misma, o desde un objeto, y que no recibirá ni a uno ni otro como primer parámetro.\n",
    "\n",
    "Para indicar un método estático, se utiliza el decorador @staticmethod (más adelante veremos bien que son los decoradores)"
   ]
  },
  {
   "cell_type": "code",
   "execution_count": 68,
   "metadata": {
    "collapsed": true
   },
   "outputs": [],
   "source": [
    "class Foo:\n",
    "    \n",
    "    @staticmethod\n",
    "    def add( x, y):\n",
    "        return x + y\n"
   ]
  },
  {
   "cell_type": "code",
   "execution_count": 69,
   "metadata": {
    "collapsed": false
   },
   "outputs": [
    {
     "data": {
      "text/plain": [
       "3"
      ]
     },
     "execution_count": 69,
     "metadata": {},
     "output_type": "execute_result"
    }
   ],
   "source": [
    "Foo.add( 1, 2 )\n"
   ]
  },
  {
   "cell_type": "code",
   "execution_count": 70,
   "metadata": {
    "collapsed": false
   },
   "outputs": [
    {
     "data": {
      "text/plain": [
       "3"
      ]
     },
     "execution_count": 70,
     "metadata": {},
     "output_type": "execute_result"
    }
   ],
   "source": [
    "f = Foo()\n",
    "f.add(1,2)"
   ]
  },
  {
   "cell_type": "markdown",
   "metadata": {},
   "source": [
    "## Clases anidadas\n",
    "\n",
    "En python, una clase, puede ser definida dentro de otra (También se pueden definir dentro de una función)"
   ]
  },
  {
   "cell_type": "code",
   "execution_count": 93,
   "metadata": {
    "collapsed": false
   },
   "outputs": [],
   "source": [
    "class Foo:\n",
    "    \n",
    "    def say_my_name(self):\n",
    "            return 'foo'\n",
    "    \n",
    "    class Bar:\n",
    "        def say_my_name(self):\n",
    "            return 'bar'\n",
    "    \n",
    "    def f(self):\n",
    "        return Foo.Bar()\n",
    "    \n",
    "    def g(self):\n",
    "        return  self.Bar()\n",
    "    \n",
    "    def h(self):\n",
    "        class A:\n",
    "            def say_my_name(self):\n",
    "                return 'A'\n",
    "        return A()\n",
    "    \n",
    "#Bar() Da error"
   ]
  },
  {
   "cell_type": "code",
   "execution_count": 78,
   "metadata": {
    "collapsed": false
   },
   "outputs": [
    {
     "data": {
      "text/plain": [
       "'bar'"
      ]
     },
     "execution_count": 78,
     "metadata": {},
     "output_type": "execute_result"
    }
   ],
   "source": [
    "b = Foo.Bar()\n",
    "b.say_my_name()"
   ]
  },
  {
   "cell_type": "code",
   "execution_count": 86,
   "metadata": {
    "collapsed": false
   },
   "outputs": [
    {
     "data": {
      "text/plain": [
       "'bar'"
      ]
     },
     "execution_count": 86,
     "metadata": {},
     "output_type": "execute_result"
    }
   ],
   "source": [
    "Foo().f().say_my_name()"
   ]
  },
  {
   "cell_type": "code",
   "execution_count": 87,
   "metadata": {
    "collapsed": false
   },
   "outputs": [
    {
     "data": {
      "text/plain": [
       "'bar'"
      ]
     },
     "execution_count": 87,
     "metadata": {},
     "output_type": "execute_result"
    }
   ],
   "source": [
    "Foo().g().say_my_name()"
   ]
  },
  {
   "cell_type": "code",
   "execution_count": 94,
   "metadata": {
    "collapsed": false
   },
   "outputs": [
    {
     "data": {
      "text/plain": [
       "'A'"
      ]
     },
     "execution_count": 94,
     "metadata": {},
     "output_type": "execute_result"
    }
   ],
   "source": [
    "Foo().h().say_my_name()"
   ]
  },
  {
   "cell_type": "markdown",
   "metadata": {},
   "source": [
    "## Métodos especiales\n",
    "\n",
    "Existe una serie de [métodos especiales](https://docs.python.org/3/reference/datamodel.html#special-method-names) que pueden ser redefinidos para cambiar el comportamiento de una clase. *\\__init\\__* es uno de estos. A continuación veremos otros ejemplos."
   ]
  },
  {
   "cell_type": "code",
   "execution_count": 99,
   "metadata": {
    "collapsed": false
   },
   "outputs": [
    {
     "data": {
      "text/plain": [
       "Point(1,5)"
      ]
     },
     "execution_count": 99,
     "metadata": {},
     "output_type": "execute_result"
    }
   ],
   "source": [
    "class Point:\n",
    "    def __init__(self, x, y):\n",
    "        self.x = x\n",
    "        self.y = y\n",
    "    \n",
    "    def __repr__(self): \n",
    "        \"\"\" Indica como será representada una clase\"\"\"\n",
    "        return \"Point({},{})\".format(self.x,self.y)\n",
    "\n",
    "Point(1,5)   "
   ]
  },
  {
   "cell_type": "code",
   "execution_count": 101,
   "metadata": {
    "collapsed": false
   },
   "outputs": [
    {
     "data": {
      "text/plain": [
       "'Point(1,4)'"
      ]
     },
     "execution_count": 101,
     "metadata": {},
     "output_type": "execute_result"
    }
   ],
   "source": [
    "repr(Point(1,4))"
   ]
  },
  {
   "cell_type": "code",
   "execution_count": 104,
   "metadata": {
    "collapsed": false
   },
   "outputs": [],
   "source": [
    "class Point:\n",
    "    def __init__(self, x, y):\n",
    "        self.x = x\n",
    "        self.y = y\n",
    "    \n",
    "    def __repr__(self): \n",
    "        \"\"\" Indica como será representada una clase\"\"\"\n",
    "        return \"Point({},{})\".format(self.x,self.y)\n",
    "    \n",
    "    def __str__(self):\n",
    "        return \"Str: {}\".format( repr(self))\n",
    "\n"
   ]
  },
  {
   "cell_type": "code",
   "execution_count": 105,
   "metadata": {
    "collapsed": false
   },
   "outputs": [
    {
     "data": {
      "text/plain": [
       "Point(1,5)"
      ]
     },
     "execution_count": 105,
     "metadata": {},
     "output_type": "execute_result"
    }
   ],
   "source": [
    "Point(1,5)   "
   ]
  },
  {
   "cell_type": "code",
   "execution_count": 107,
   "metadata": {
    "collapsed": false
   },
   "outputs": [
    {
     "data": {
      "text/plain": [
       "'Str: Point(1,5)'"
      ]
     },
     "execution_count": 107,
     "metadata": {},
     "output_type": "execute_result"
    }
   ],
   "source": [
    "str(Point(1,5))"
   ]
  },
  {
   "cell_type": "code",
   "execution_count": 111,
   "metadata": {
    "collapsed": false
   },
   "outputs": [
    {
     "data": {
      "text/plain": [
       "Point(2,3)"
      ]
     },
     "execution_count": 111,
     "metadata": {},
     "output_type": "execute_result"
    }
   ],
   "source": [
    "class AddPoint(Point):\n",
    "       \n",
    "    def __add__(self, p):\n",
    "        return type(self)(self.x+p.x, self.y+p.y)\n",
    "\n",
    "AddPoint(1,2) + AddPoint(1,1)"
   ]
  }
 ],
 "metadata": {
  "kernelspec": {
   "display_name": "Python 3",
   "language": "python",
   "name": "python3"
  },
  "language_info": {
   "codemirror_mode": {
    "name": "ipython",
    "version": 3
   },
   "file_extension": ".py",
   "mimetype": "text/x-python",
   "name": "python",
   "nbconvert_exporter": "python",
   "pygments_lexer": "ipython3",
   "version": "3.4.1"
  }
 },
 "nbformat": 4,
 "nbformat_minor": 0
}
